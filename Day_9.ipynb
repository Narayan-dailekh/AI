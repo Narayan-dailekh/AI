{
  "nbformat": 4,
  "nbformat_minor": 0,
  "metadata": {
    "colab": {
      "provenance": []
    },
    "kernelspec": {
      "name": "python3",
      "display_name": "Python 3"
    },
    "language_info": {
      "name": "python"
    }
  },
  "cells": [
    {
      "cell_type": "code",
      "execution_count": null,
      "metadata": {
        "id": "SNXkVnsO-4ka"
      },
      "outputs": [],
      "source": []
    },
    {
      "cell_type": "markdown",
      "source": [
        "# Hands-on Practice: Linear Algebra for AI"
      ],
      "metadata": {
        "id": "fMrCVUp0--Ie"
      }
    },
    {
      "cell_type": "code",
      "source": [
        "#Exercise: Working with Scalar And vactors"
      ],
      "metadata": {
        "id": "NOI2bQgD_a3r"
      },
      "execution_count": 1,
      "outputs": []
    },
    {
      "cell_type": "code",
      "source": [
        "import numpy as np\n",
        "\n",
        "#creating a Scaler\n",
        "scaler=9\n",
        "print(scaler)\n",
        "\n",
        "#Creating a Cector\n",
        "vector=np.array([1,2,3])\n",
        "print(vector)\n",
        "\n",
        "#scaling vector with a scaler aka. scaled vector\n",
        "scaled_vector=vector*scaler\n",
        "print(scaled_vector)"
      ],
      "metadata": {
        "colab": {
          "base_uri": "https://localhost:8080/"
        },
        "id": "KGyUy6B7_Y2s",
        "outputId": "d86eeb6c-ff00-4fcf-b6ab-b2dc8941f80b"
      },
      "execution_count": 4,
      "outputs": [
        {
          "output_type": "stream",
          "name": "stdout",
          "text": [
            "9\n",
            "[1 2 3]\n",
            "[ 9 18 27]\n"
          ]
        }
      ]
    },
    {
      "cell_type": "markdown",
      "source": [
        "#Cector Addision and Substraction"
      ],
      "metadata": {
        "id": "Q5oJiiy5CC72"
      }
    },
    {
      "cell_type": "code",
      "source": [],
      "metadata": {
        "id": "fQkBND1JBAV5"
      },
      "execution_count": 9,
      "outputs": []
    },
    {
      "cell_type": "markdown",
      "source": [
        "#Matrix Creation and simple operation"
      ],
      "metadata": {
        "id": "RDZtrLY0BZRQ"
      }
    },
    {
      "cell_type": "code",
      "source": [
        "from re import sub\n",
        "Matrix1=np.array([[1,2,3],[4,5,6],[7,8,9]])\n",
        "matrix2=np.array([[1,2,3],[4,5,6],[7,8,9]])\n",
        "print(Matrix1)\n",
        "\n",
        "add_matrix=Matrix1+matrix2\n",
        "print(add_matrix)\n",
        "\n",
        "sub_matrix=Matrix1-matrix2\n",
        "print(sub_matrix)\n"
      ],
      "metadata": {
        "colab": {
          "base_uri": "https://localhost:8080/"
        },
        "id": "aQQYHAPvBWrq",
        "outputId": "1091a6b1-fba2-445a-d679-fbbdc7e60c8a"
      },
      "execution_count": 20,
      "outputs": [
        {
          "output_type": "stream",
          "name": "stdout",
          "text": [
            "[[1 2 3]\n",
            " [4 5 6]\n",
            " [7 8 9]]\n",
            "[[ 2  4  6]\n",
            " [ 8 10 12]\n",
            " [14 16 18]]\n",
            "[[0 0 0]\n",
            " [0 0 0]\n",
            " [0 0 0]]\n"
          ]
        }
      ]
    },
    {
      "cell_type": "markdown",
      "source": [
        "#Matric Multipication"
      ],
      "metadata": {
        "id": "8S6wQRmuDJx-"
      }
    },
    {
      "cell_type": "code",
      "source": [
        "matric1=np.array([[1,2,3],[4,5,6],[7,8,9]])\n",
        "matrix2=np.array([[1,2,3],[4,5,6],[7,8,9]])\n",
        "\n",
        "product=np.dot(matric1,matrix2)\n",
        "print(product)"
      ],
      "metadata": {
        "colab": {
          "base_uri": "https://localhost:8080/"
        },
        "id": "E0JEDJygDI_x",
        "outputId": "ed68189b-be5e-423c-eef8-fc259df86d99"
      },
      "execution_count": 14,
      "outputs": [
        {
          "output_type": "stream",
          "name": "stdout",
          "text": [
            "[[ 30  36  42]\n",
            " [ 66  81  96]\n",
            " [102 126 150]]\n"
          ]
        }
      ]
    },
    {
      "cell_type": "code",
      "source": [
        "#Task 4: create two 2x2 matrices[[1,0],[0,1]and [[2,3],[4,5]]\n",
        "matric=np.array([[1,0],[0,1]])\n",
        "matrix2=np.array([[2,3],[4,5]])\n",
        "print(matric)\n",
        "print(matrix2)\n"
      ],
      "metadata": {
        "colab": {
          "base_uri": "https://localhost:8080/"
        },
        "id": "-3dR2KIFDAuA",
        "outputId": "82d0d02a-2b92-4909-ea9c-0fb6bfde1a2d"
      },
      "execution_count": 17,
      "outputs": [
        {
          "output_type": "stream",
          "name": "stdout",
          "text": [
            "[[1 0]\n",
            " [0 1]]\n",
            "[[2 3]\n",
            " [4 5]]\n"
          ]
        }
      ]
    },
    {
      "cell_type": "code",
      "source": [
        "# Define two 2x2 matrices\n",
        "A = [[0, 1 ],\n",
        "     [1, 2]]\n",
        "\n",
        "B = [[1, 0],\n",
        "     [2, 1]]\n",
        "ans=[]\n",
        "\n",
        "matrice=np.dot(A,B)\n",
        "print(matrice)"
      ],
      "metadata": {
        "colab": {
          "base_uri": "https://localhost:8080/"
        },
        "id": "Nic-M1GmAIKl",
        "outputId": "3ea48f2b-b076-4740-feb3-649f0429e699"
      },
      "execution_count": 19,
      "outputs": [
        {
          "output_type": "stream",
          "name": "stdout",
          "text": [
            "[[2 1]\n",
            " [5 2]]\n"
          ]
        }
      ]
    },
    {
      "cell_type": "markdown",
      "source": [
        "#Exercise 5:"
      ],
      "metadata": {
        "id": "bfLvZMSsP_tA"
      }
    },
    {
      "cell_type": "code",
      "source": [
        "identity=np.eye(2,dtype=)\n",
        "print(identity)\n",
        "\n",
        "matrix1=np.array([[1,2],[3,4]])\n",
        "print(matrix1)\n",
        "\n",
        "product=np.dot(identity,matrix1)\n",
        "print(product)\n",
        "\n",
        "#task 5: Create a 2x3 matrix[]"
      ],
      "metadata": {
        "colab": {
          "base_uri": "https://localhost:8080/",
          "height": 106
        },
        "id": "tN90XoNqQREP",
        "outputId": "ec92554f-e9ce-4108-c0e2-06468bed232c"
      },
      "execution_count": 21,
      "outputs": [
        {
          "output_type": "error",
          "ename": "SyntaxError",
          "evalue": "invalid syntax (<ipython-input-21-b0e52c4c1831>, line 1)",
          "traceback": [
            "\u001b[0;36m  File \u001b[0;32m\"<ipython-input-21-b0e52c4c1831>\"\u001b[0;36m, line \u001b[0;32m1\u001b[0m\n\u001b[0;31m    identity=np.eye(2,dtype=)\u001b[0m\n\u001b[0m                            ^\u001b[0m\n\u001b[0;31mSyntaxError\u001b[0m\u001b[0;31m:\u001b[0m invalid syntax\n"
          ]
        }
      ]
    },
    {
      "cell_type": "markdown",
      "source": [
        "#Matrix Inverse"
      ],
      "metadata": {
        "id": "dmuTHsA6Q5PW"
      }
    },
    {
      "cell_type": "markdown",
      "source": [],
      "metadata": {
        "id": "LGVVWMfOQOir"
      }
    },
    {
      "cell_type": "code",
      "source": [
        "matirx1=np.array([[2,4],[5,7]])\n",
        "# print(matirx1)\n",
        "\n",
        "# inverse=np.linalg.inv(matirx1)\n",
        "# print(inverse)\n",
        "\n",
        "identity=np.dot(matirx1,inverse)\n",
        "print(identity)"
      ],
      "metadata": {
        "colab": {
          "base_uri": "https://localhost:8080/"
        },
        "id": "nYHasldxMZZ8",
        "outputId": "9c31c43e-8eca-4d4b-984d-ed22c2c843a1"
      },
      "execution_count": 25,
      "outputs": [
        {
          "output_type": "stream",
          "name": "stdout",
          "text": [
            "[[2.  0. ]\n",
            " [0.5 1.5]]\n"
          ]
        }
      ]
    },
    {
      "cell_type": "code",
      "source": [],
      "metadata": {
        "id": "53GocmEGRNUZ"
      },
      "execution_count": null,
      "outputs": []
    }
  ]
}