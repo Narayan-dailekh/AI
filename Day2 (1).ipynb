{
  "nbformat": 4,
  "nbformat_minor": 0,
  "metadata": {
    "colab": {
      "provenance": []
    },
    "kernelspec": {
      "name": "python3",
      "display_name": "Python 3"
    },
    "language_info": {
      "name": "python"
    }
  },
  "cells": [
    {
      "cell_type": "markdown",
      "source": [
        "#Section 1"
      ],
      "metadata": {
        "id": "VjgenFTSwhoS"
      }
    },
    {
      "cell_type": "code",
      "execution_count": 2,
      "metadata": {
        "colab": {
          "base_uri": "https://localhost:8080/"
        },
        "id": "ZUuPSsb6vbZw",
        "outputId": "5d1cdc3d-3c5f-4cab-e18e-4258927a7676"
      },
      "outputs": [
        {
          "output_type": "stream",
          "name": "stdout",
          "text": [
            "This is my second class on AI\n"
          ]
        }
      ],
      "source": [
        "print(\"This is my second class on AI\")"
      ]
    },
    {
      "cell_type": "markdown",
      "source": [
        "Function in Python"
      ],
      "metadata": {
        "id": "Cs8uX3lPxCzQ"
      }
    },
    {
      "cell_type": "code",
      "source": [
        "def area_of_square (num):\n",
        "  return num*num\n",
        "print(\"the area is:\",area_of_square(6))\n",
        "print(\"the area of seond square is:\", area_of_square(16))"
      ],
      "metadata": {
        "colab": {
          "base_uri": "https://localhost:8080/"
        },
        "id": "CYOLFpcxxHUJ",
        "outputId": "69b55ff0-c733-4008-f992-d080e8b4e8cf"
      },
      "execution_count": 6,
      "outputs": [
        {
          "output_type": "stream",
          "name": "stdout",
          "text": [
            "the area is: 36\n",
            "the area of seond square is: 256\n"
          ]
        }
      ]
    },
    {
      "cell_type": "markdown",
      "source": [
        "def area_of_circle(num):\n",
        "  return num*num\n",
        "print(\"the area is:\""
      ],
      "metadata": {
        "id": "c6XTB3kXyvcg"
      }
    },
    {
      "cell_type": "markdown",
      "source": [
        "List in Python"
      ],
      "metadata": {
        "id": "e1zSxezAzKqE"
      }
    },
    {
      "cell_type": "code",
      "source": [
        "# Creating a list of fruits\n",
        "fruits = [\"apple\", \"banana\", \"Kiwi\", \"orange\", \"strewary\"]\n",
        "# Accessing elements\n",
        "# print(fruits[0]) accessing first elements in the list\n",
        "# print(fruits[4]) accessing 5th elements in the list.\n",
        "\n",
        "# adding elements from list\n",
        "fruits.append(\"mango\")\n",
        "print(fruits)\n",
        "\n",
        "# Removing elements from list\n",
        "fruits.remove(\"Kiwi\")\n",
        "print(fruits)"
      ],
      "metadata": {
        "colab": {
          "base_uri": "https://localhost:8080/"
        },
        "id": "ecI9A-0CzQ5k",
        "outputId": "c9107e99-3721-4808-b58d-f2759656069e"
      },
      "execution_count": 17,
      "outputs": [
        {
          "output_type": "stream",
          "name": "stdout",
          "text": [
            "['apple', 'banana', 'Kiwi', 'orange', 'strewary', 'mango']\n",
            "['apple', 'banana', 'orange', 'strewary', 'mango']\n"
          ]
        }
      ]
    },
    {
      "cell_type": "markdown",
      "source": [
        "#**Tuples in Python**"
      ],
      "metadata": {
        "id": "clL_vigC3vx5"
      }
    },
    {
      "cell_type": "code",
      "source": [
        "#**Dictionaries in Python**"
      ],
      "metadata": {
        "id": "RXuYrfSm64yV"
      },
      "execution_count": 22,
      "outputs": []
    },
    {
      "cell_type": "code",
      "source": [
        "# Creating a Dictionary\n",
        "student={\n",
        "  \"name\": \"Ram Prasai\",\n",
        "  \"age\" : 30,\n",
        "  \"Course\" : \"Computer Science\"}\n",
        "#Accessing alues of a particular key in a dictionary\n",
        "print(student[\"age\"])\n",
        "student[\"age\"]=55\n",
        "print(student[\"age\"])\n",
        "\n",
        "print(student[\"address\"])\n",
        "student[\"address\"]=\"Kathmandu\"\n",
        "print(student[\"address\"])"
      ],
      "metadata": {
        "colab": {
          "base_uri": "https://localhost:8080/",
          "height": 245
        },
        "id": "k6Jwfyq07Bdb",
        "outputId": "53f34dfa-ce0f-43eb-b4b9-9317afb5cc92"
      },
      "execution_count": 35,
      "outputs": [
        {
          "output_type": "stream",
          "name": "stdout",
          "text": [
            "30\n",
            "55\n"
          ]
        },
        {
          "output_type": "error",
          "ename": "KeyError",
          "evalue": "'address'",
          "traceback": [
            "\u001b[0;31m---------------------------------------------------------------------------\u001b[0m",
            "\u001b[0;31mKeyError\u001b[0m                                  Traceback (most recent call last)",
            "\u001b[0;32m<ipython-input-35-b4360d7ec9a7>\u001b[0m in \u001b[0;36m<cell line: 0>\u001b[0;34m()\u001b[0m\n\u001b[1;32m      9\u001b[0m \u001b[0mprint\u001b[0m\u001b[0;34m(\u001b[0m\u001b[0mstudent\u001b[0m\u001b[0;34m[\u001b[0m\u001b[0;34m\"age\"\u001b[0m\u001b[0;34m]\u001b[0m\u001b[0;34m)\u001b[0m\u001b[0;34m\u001b[0m\u001b[0;34m\u001b[0m\u001b[0m\n\u001b[1;32m     10\u001b[0m \u001b[0;34m\u001b[0m\u001b[0m\n\u001b[0;32m---> 11\u001b[0;31m \u001b[0mprint\u001b[0m\u001b[0;34m(\u001b[0m\u001b[0mstudent\u001b[0m\u001b[0;34m[\u001b[0m\u001b[0;34m\"address\"\u001b[0m\u001b[0;34m]\u001b[0m\u001b[0;34m)\u001b[0m\u001b[0;34m\u001b[0m\u001b[0;34m\u001b[0m\u001b[0m\n\u001b[0m\u001b[1;32m     12\u001b[0m \u001b[0mstudent\u001b[0m\u001b[0;34m[\u001b[0m\u001b[0;34m\"address\"\u001b[0m\u001b[0;34m]\u001b[0m\u001b[0;34m=\u001b[0m \u001b[0;34m\"Kathmandu\"\u001b[0m\u001b[0;34m\u001b[0m\u001b[0;34m\u001b[0m\u001b[0m\n\u001b[1;32m     13\u001b[0m \u001b[0mprint\u001b[0m\u001b[0;34m(\u001b[0m\u001b[0mstudent\u001b[0m\u001b[0;34m[\u001b[0m\u001b[0;34m\"address\"\u001b[0m\u001b[0;34m]\u001b[0m\u001b[0;34m)\u001b[0m\u001b[0;34m\u001b[0m\u001b[0;34m\u001b[0m\u001b[0m\n",
            "\u001b[0;31mKeyError\u001b[0m: 'address'"
          ]
        }
      ]
    },
    {
      "cell_type": "code",
      "source": [
        "num=int(input(\"what is the temperature c\"))\n",
        "def todays_temp(num):\n",
        "  return num*9/5+32\n",
        "print(\"the temperature in fahrenhit is:\",todays_temp(num))"
      ],
      "metadata": {
        "colab": {
          "base_uri": "https://localhost:8080/"
        },
        "id": "zApykazl8Rj3",
        "outputId": "6d6b3b6f-a622-4df5-f7c7-a0c56e4e021d"
      },
      "execution_count": 37,
      "outputs": [
        {
          "output_type": "stream",
          "name": "stdout",
          "text": [
            "what is the temperature100\n",
            "the temperature in fahrenhit is: 212.0\n"
          ]
        }
      ]
    },
    {
      "cell_type": "markdown",
      "source": [
        "String Manipulation in Python(Tomorrow)"
      ],
      "metadata": {
        "id": "FKwrNiz2C7LT"
      }
    },
    {
      "cell_type": "code",
      "source": [
        "num=int(input(\"what is the temperature f\"))\n",
        "def todays_temp(num):\n",
        "  return (num-32)*5/9\n",
        "print(\"the temperature in celcius is:\",todays_temp(num))"
      ],
      "metadata": {
        "colab": {
          "base_uri": "https://localhost:8080/"
        },
        "id": "I3leqnsoC9Xx",
        "outputId": "5755bbf7-b13a-4215-d8ab-ddf12b6e1df9"
      },
      "execution_count": 3,
      "outputs": [
        {
          "output_type": "stream",
          "name": "stdout",
          "text": [
            "what is the temperature f212\n",
            "the temperature in celcius is: 100.0\n"
          ]
        }
      ]
    },
    {
      "cell_type": "code",
      "source": [
        "Birth year=int(input(\"what is your birth year\"))\n",
        "def age(birthyear):\n",
        "  return 2025- birth year\n",
        "print(\"your age is :\",age(birth year))"
      ],
      "metadata": {
        "colab": {
          "base_uri": "https://localhost:8080/"
        },
        "id": "P-gcteECFBkL",
        "outputId": "3d8dc26e-1b46-4a37-f620-fbe333b0392f"
      },
      "execution_count": 25,
      "outputs": [
        {
          "output_type": "stream",
          "name": "stdout",
          "text": [
            "what is your birth year2015\n",
            "your age is : 10\n"
          ]
        }
      ]
    },
    {
      "cell_type": "code",
      "source": [
        "# Interest\n",
        "principle = float(input(\"enter the principle Amount (P):\"))\n",
        "rate = float(input(\"enter the rate of interest(R) in % : \"))\n",
        "time = int(input(\"enter the period of time (T):\"))\n",
        "def interest(principle, rate,time):\n",
        "  return (principle* rate* time)/100\n",
        "print(\"the interest per year:\",interest(principle,rate,time))"
      ],
      "metadata": {
        "colab": {
          "base_uri": "https://localhost:8080/"
        },
        "id": "N41PNk5Xy5y4",
        "outputId": "7573a66b-afbe-4f26-d69c-e2a4a4b423bc"
      },
      "execution_count": 5,
      "outputs": [
        {
          "output_type": "stream",
          "name": "stdout",
          "text": [
            "enter the principle Amount (P):10000\n",
            "enter the rate of interest(R) in % : 12\n",
            "enter the period of time (T):2\n",
            "the interest per year: 2400.0\n"
          ]
        }
      ]
    },
    {
      "cell_type": "code",
      "source": [
        "#BMI Calculator\n",
        "weight=float(input(\"enter your weight in kg:\"))\n",
        "height=float(input(\"enter your height in m:\"))\n",
        "def bmi(weight,height):\n",
        "  return weight/(height*height)\n",
        "print(\"your bmi is:\",bmi(weight,height))"
      ],
      "metadata": {
        "colab": {
          "base_uri": "https://localhost:8080/"
        },
        "id": "2DcwTbRyoYmH",
        "outputId": "689d51ac-aacd-4042-a197-9c5fe439a996"
      },
      "execution_count": 8,
      "outputs": [
        {
          "output_type": "stream",
          "name": "stdout",
          "text": [
            "enter your weight in kg:45\n",
            "enter your height in m:1.5\n",
            "your bmi is: 20.0\n"
          ]
        }
      ]
    },
    {
      "cell_type": "markdown",
      "source": [],
      "metadata": {
        "id": "rKt6KSFdHd2_"
      }
    },
    {
      "cell_type": "code",
      "source": [
        "#Currency Converter\n",
        "amount=float(input(\"enter amount in local currency\"))\n",
        "result=amount/132\n",
        "print(\"amount in USD:\",result)\n",
        "\n"
      ],
      "metadata": {
        "colab": {
          "base_uri": "https://localhost:8080/"
        },
        "id": "a-JG_Lgwq84p",
        "outputId": "7779a462-0c0a-47d4-8a9b-a99646462aee"
      },
      "execution_count": 10,
      "outputs": [
        {
          "output_type": "stream",
          "name": "stdout",
          "text": [
            "enter amount in local currency10000\n",
            "amount in USD: 75.75757575757575\n"
          ]
        }
      ]
    },
    {
      "cell_type": "code",
      "source": [
        "import random\n",
        "print(random.randint(0,9))"
      ],
      "metadata": {
        "colab": {
          "base_uri": "https://localhost:8080/"
        },
        "id": "yJMZM5pjut_D",
        "outputId": "802ea23d-1171-4618-a082-7bf75e20036a"
      },
      "execution_count": 11,
      "outputs": [
        {
          "output_type": "stream",
          "name": "stdout",
          "text": [
            "8\n"
          ]
        }
      ]
    },
    {
      "cell_type": "markdown",
      "source": [
        " #*String* manipulation in Python"
      ],
      "metadata": {
        "id": "hUlAA85IHXT8"
      }
    },
    {
      "cell_type": "code",
      "source": [
        "# Creating a variable named \"text\"that contains leading and trailing spaces\n",
        "text=\"   Hello Python  \"\n",
        "print(text)\n",
        "\n",
        "#Lower()is used here to convert original text into lowercase\n",
        "print(text.lower())\n",
        "\n",
        "#strip() is used to remove leading and trailing spaces\n",
        "print(text.strip())\n",
        "\n",
        "#\n",
        "print(text.replace(\"Python\",\"Java\"))\n",
        "# Splitting and joining\n",
        "#Function Chaining or Method chaining\n",
        "splitted=text.strip().split\n",
        "print(splitted)\n",
        "\n",
        "joined =\" \".join(splitted)\n",
        "print(joined)"
      ],
      "metadata": {
        "colab": {
          "base_uri": "https://localhost:8080/",
          "height": 280
        },
        "id": "IThrin9XHtZI",
        "outputId": "793851b1-ed27-44ea-b4a9-c132f115e944"
      },
      "execution_count": 24,
      "outputs": [
        {
          "output_type": "stream",
          "name": "stdout",
          "text": [
            "   Hello Python  \n",
            "   hello python  \n",
            "Hello Python\n",
            "   Hello Java  \n",
            "<built-in method split of str object at 0x7bfc597a33f0>\n"
          ]
        },
        {
          "output_type": "error",
          "ename": "TypeError",
          "evalue": "can only join an iterable",
          "traceback": [
            "\u001b[0;31m---------------------------------------------------------------------------\u001b[0m",
            "\u001b[0;31mTypeError\u001b[0m                                 Traceback (most recent call last)",
            "\u001b[0;32m<ipython-input-24-860adc95188c>\u001b[0m in \u001b[0;36m<cell line: 0>\u001b[0;34m()\u001b[0m\n\u001b[1;32m     16\u001b[0m \u001b[0mprint\u001b[0m\u001b[0;34m(\u001b[0m\u001b[0msplitted\u001b[0m\u001b[0;34m)\u001b[0m\u001b[0;34m\u001b[0m\u001b[0;34m\u001b[0m\u001b[0m\n\u001b[1;32m     17\u001b[0m \u001b[0;34m\u001b[0m\u001b[0m\n\u001b[0;32m---> 18\u001b[0;31m \u001b[0mjoined\u001b[0m \u001b[0;34m=\u001b[0m\u001b[0;34m\" \"\u001b[0m\u001b[0;34m.\u001b[0m\u001b[0mjoin\u001b[0m\u001b[0;34m(\u001b[0m\u001b[0msplitted\u001b[0m\u001b[0;34m)\u001b[0m\u001b[0;34m\u001b[0m\u001b[0;34m\u001b[0m\u001b[0m\n\u001b[0m\u001b[1;32m     19\u001b[0m \u001b[0mprint\u001b[0m\u001b[0;34m(\u001b[0m\u001b[0mjoined\u001b[0m\u001b[0;34m)\u001b[0m\u001b[0;34m\u001b[0m\u001b[0;34m\u001b[0m\u001b[0m\n",
            "\u001b[0;31mTypeError\u001b[0m: can only join an iterable"
          ]
        }
      ]
    },
    {
      "cell_type": "markdown",
      "source": [
        "MODULAR PROGRAMMING IN PYTHON"
      ],
      "metadata": {
        "id": "i3f8W3ltLEaD"
      }
    },
    {
      "cell_type": "code",
      "source": [
        "#importing math module\n",
        "import math\n",
        "\n",
        "square_root=math.sqrt(25)\n",
        "print(int(square_root))\n"
      ],
      "metadata": {
        "colab": {
          "base_uri": "https://localhost:8080/"
        },
        "id": "pQqjJXPZIzF-",
        "outputId": "1afa07af-4e31-4ce8-b546-3e4c873442db"
      },
      "execution_count": 27,
      "outputs": [
        {
          "output_type": "stream",
          "name": "stdout",
          "text": [
            "5\n"
          ]
        }
      ]
    },
    {
      "cell_type": "code",
      "source": [
        "floor=math.floor(3.7)\n",
        "print(\"The florring of 3.7 is:\",floor)\n",
        "\n",
        "ceiling=math.ceil(3.7)\n",
        "print(\"The ceiling of 3.7 is:\",ceiling)"
      ],
      "metadata": {
        "colab": {
          "base_uri": "https://localhost:8080/"
        },
        "id": "mPHQP2kwLqHs",
        "outputId": "2a85137a-b2a6-4cf1-d225-2f04b68b8afb"
      },
      "execution_count": 29,
      "outputs": [
        {
          "output_type": "stream",
          "name": "stdout",
          "text": [
            "The florring of 3.7 is: 3\n",
            "The ceiling of 3.7 is: 4\n"
          ]
        }
      ]
    },
    {
      "cell_type": "markdown",
      "source": [
        "##Module alaising"
      ],
      "metadata": {
        "id": "gkZGKnmMM0Rq"
      }
    },
    {
      "cell_type": "code",
      "source": [
        "import matplotlib.pyplot as plt\n",
        "plt.plot([1,2,3],[4,5,6])\n"
      ],
      "metadata": {
        "id": "y7Ksj_9EMVxP"
      },
      "execution_count": 32,
      "outputs": []
    },
    {
      "cell_type": "markdown",
      "source": [
        "Variable Alaising"
      ],
      "metadata": {
        "id": "qRxaJRb4NlrS"
      }
    },
    {
      "cell_type": "code",
      "source": [
        "a=[1,2,3,4]\n",
        "print(a)\n",
        "b=a\n",
        "b.append(5)\n",
        "print(b)\n",
        "print(a)\n",
        "\n",
        "#homework: experiment with function/method aliasing"
      ],
      "metadata": {
        "colab": {
          "base_uri": "https://localhost:8080/"
        },
        "id": "wsfIQnZiNqJq",
        "outputId": "f1caa063-5d0d-4101-808c-bd094121861f"
      },
      "execution_count": 35,
      "outputs": [
        {
          "output_type": "stream",
          "name": "stdout",
          "text": [
            "[1, 2, 3, 4]\n",
            "[1, 2, 3, 4, 5]\n",
            "[1, 2, 3, 4, 5]\n"
          ]
        }
      ]
    },
    {
      "cell_type": "markdown",
      "source": [
        "Randoms in Python"
      ],
      "metadata": {
        "id": "s9JBZ7NnOGsN"
      }
    },
    {
      "cell_type": "code",
      "source": [
        "import random as rdn\n",
        "print(rdn.randint(0,10))"
      ],
      "metadata": {
        "colab": {
          "base_uri": "https://localhost:8080/"
        },
        "id": "m8t_mpxZOYt7",
        "outputId": "77ee871e-bb32-459c-9817-49ef6c23faf4"
      },
      "execution_count": 45,
      "outputs": [
        {
          "output_type": "stream",
          "name": "stdout",
          "text": [
            "10\n"
          ]
        }
      ]
    },
    {
      "cell_type": "code",
      "source": [
        "random_float=rdn.random()\n",
        "print(random_float)"
      ],
      "metadata": {
        "colab": {
          "base_uri": "https://localhost:8080/"
        },
        "id": "SwwYwdOrPAmj",
        "outputId": "7abc4d7a-6dcf-4232-be94-0cfedb86d739"
      },
      "execution_count": 46,
      "outputs": [
        {
          "output_type": "stream",
          "name": "stdout",
          "text": [
            "0.20312019093908362\n"
          ]
        }
      ]
    },
    {
      "cell_type": "code",
      "source": [
        "random_float_in_range=rdn.uniform(2.5,10.0)\n",
        "print(random_float_in_range)\n",
        "\n",
        "#Homework: Explore More Modules and function/Methods"
      ],
      "metadata": {
        "colab": {
          "base_uri": "https://localhost:8080/"
        },
        "id": "Inz7tQVVPP7I",
        "outputId": "5e410138-3c8d-474c-8185-c0c347ba7ef1"
      },
      "execution_count": 47,
      "outputs": [
        {
          "output_type": "stream",
          "name": "stdout",
          "text": [
            "8.718624188752756\n"
          ]
        }
      ]
    },
    {
      "cell_type": "markdown",
      "source": [
        "#CREATING CUSTOM MODULES IN PYTHON"
      ],
      "metadata": {
        "id": "RZdV6F44NlUk"
      }
    },
    {
      "cell_type": "code",
      "source": [
        "#helper.py\n",
        "%%writefile helperr.py\n",
        "def add_numbers(a,b):\n",
        "  return a+b"
      ],
      "metadata": {
        "colab": {
          "base_uri": "https://localhost:8080/"
        },
        "id": "lWKWHc3fQCBB",
        "outputId": "50bdd59a-aaf9-4cb7-d3f4-90a3526e0b66"
      },
      "execution_count": 59,
      "outputs": [
        {
          "output_type": "stream",
          "name": "stdout",
          "text": [
            "Writing helperr.py\n"
          ]
        }
      ]
    },
    {
      "cell_type": "code",
      "source": [
        "#main.py\n",
        "import helperr\n",
        "result= helperr.add_numbers(3,9)\n",
        "print(\"The addition between these numbers is:\",result)"
      ],
      "metadata": {
        "colab": {
          "base_uri": "https://localhost:8080/"
        },
        "id": "FCDeXmMaQOIx",
        "outputId": "31f9c953-16af-4371-ad7c-bf5c7bcbc8c6"
      },
      "execution_count": 61,
      "outputs": [
        {
          "output_type": "stream",
          "name": "stdout",
          "text": [
            "The addition between these numbers is: 12\n"
          ]
        }
      ]
    },
    {
      "cell_type": "code",
      "source": [
        "#helper.py\n",
        "%%writefile helper2.py\n",
        "def sub_numbers(a,b):\n",
        "  return a-b\n",
        "def add_numbers(a,b):\n",
        "  return a+b\n",
        "def mul_numbers(a,b):\n",
        "  return a*b\n",
        "def dev_numbers(a,b):\n",
        "  return a/b\n",
        ""
      ],
      "metadata": {
        "colab": {
          "base_uri": "https://localhost:8080/"
        },
        "id": "9T164y5iRSP1",
        "outputId": "194c2752-d5ce-44ca-ed4a-4bddd3e5b634"
      },
      "execution_count": 80,
      "outputs": [
        {
          "output_type": "stream",
          "name": "stdout",
          "text": [
            "Overwriting helper2.py\n"
          ]
        }
      ]
    },
    {
      "cell_type": "code",
      "source": [
        "#main.py\n",
        "import helper2\n",
        "result= helper2.sub_numbers(5,10)\n",
        "result= helper2.add_numbers(5,10)\n",
        "result= helper2.mul_numbers(5,10)\n",
        "result= helper2.dev_numbers(5,10)\n",
        "print(\"The subctaction between these numbers is:\",result)\n",
        "print(\"The addition between these numbers is:\",result)\n",
        "print(\"The multiplication between these numbers is:\",result)\n",
        "print(\"The division between these numbers is:\",result)"
      ],
      "metadata": {
        "colab": {
          "base_uri": "https://localhost:8080/",
          "height": 211
        },
        "id": "c8GJIe7wTfvc",
        "outputId": "65c49d2e-b676-405f-ddd0-2b6f99e5bd1a"
      },
      "execution_count": 79,
      "outputs": [
        {
          "output_type": "error",
          "ename": "AttributeError",
          "evalue": "module 'helper2' has no attribute 'add_numbers'",
          "traceback": [
            "\u001b[0;31m---------------------------------------------------------------------------\u001b[0m",
            "\u001b[0;31mAttributeError\u001b[0m                            Traceback (most recent call last)",
            "\u001b[0;32m<ipython-input-79-99bc04849801>\u001b[0m in \u001b[0;36m<cell line: 0>\u001b[0;34m()\u001b[0m\n\u001b[1;32m      2\u001b[0m \u001b[0;32mimport\u001b[0m \u001b[0mhelper2\u001b[0m\u001b[0;34m\u001b[0m\u001b[0;34m\u001b[0m\u001b[0m\n\u001b[1;32m      3\u001b[0m \u001b[0mresult\u001b[0m\u001b[0;34m=\u001b[0m \u001b[0mhelper2\u001b[0m\u001b[0;34m.\u001b[0m\u001b[0msub_numbers\u001b[0m\u001b[0;34m(\u001b[0m\u001b[0;36m5\u001b[0m\u001b[0;34m,\u001b[0m\u001b[0;36m10\u001b[0m\u001b[0;34m)\u001b[0m\u001b[0;34m\u001b[0m\u001b[0;34m\u001b[0m\u001b[0m\n\u001b[0;32m----> 4\u001b[0;31m \u001b[0mresult\u001b[0m\u001b[0;34m=\u001b[0m \u001b[0mhelper2\u001b[0m\u001b[0;34m.\u001b[0m\u001b[0madd_numbers\u001b[0m\u001b[0;34m(\u001b[0m\u001b[0;36m5\u001b[0m\u001b[0;34m,\u001b[0m\u001b[0;36m10\u001b[0m\u001b[0;34m)\u001b[0m\u001b[0;34m\u001b[0m\u001b[0;34m\u001b[0m\u001b[0m\n\u001b[0m\u001b[1;32m      5\u001b[0m \u001b[0mresult\u001b[0m\u001b[0;34m=\u001b[0m \u001b[0mhelper2\u001b[0m\u001b[0;34m.\u001b[0m\u001b[0mmul_numbers\u001b[0m\u001b[0;34m(\u001b[0m\u001b[0;36m5\u001b[0m\u001b[0;34m,\u001b[0m\u001b[0;36m10\u001b[0m\u001b[0;34m)\u001b[0m\u001b[0;34m\u001b[0m\u001b[0;34m\u001b[0m\u001b[0m\n\u001b[1;32m      6\u001b[0m \u001b[0mresult\u001b[0m\u001b[0;34m=\u001b[0m \u001b[0mhelper2\u001b[0m\u001b[0;34m.\u001b[0m\u001b[0mdev_numbers\u001b[0m\u001b[0;34m(\u001b[0m\u001b[0;36m5\u001b[0m\u001b[0;34m,\u001b[0m\u001b[0;36m10\u001b[0m\u001b[0;34m)\u001b[0m\u001b[0;34m\u001b[0m\u001b[0;34m\u001b[0m\u001b[0m\n",
            "\u001b[0;31mAttributeError\u001b[0m: module 'helper2' has no attribute 'add_numbers'"
          ]
        }
      ]
    },
    {
      "cell_type": "code",
      "source": [],
      "metadata": {
        "id": "bsrqQGETT8GK"
      },
      "execution_count": null,
      "outputs": []
    }
  ]
}