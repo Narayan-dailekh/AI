{
  "nbformat": 4,
  "nbformat_minor": 0,
  "metadata": {
    "colab": {
      "provenance": []
    },
    "kernelspec": {
      "name": "python3",
      "display_name": "Python 3"
    },
    "language_info": {
      "name": "python"
    }
  },
  "cells": [
    {
      "cell_type": "markdown",
      "source": [
        "#Section 1"
      ],
      "metadata": {
        "id": "VjgenFTSwhoS"
      }
    },
    {
      "cell_type": "code",
      "execution_count": null,
      "metadata": {
        "colab": {
          "base_uri": "https://localhost:8080/"
        },
        "id": "ZUuPSsb6vbZw",
        "outputId": "5d1cdc3d-3c5f-4cab-e18e-4258927a7676"
      },
      "outputs": [
        {
          "output_type": "stream",
          "name": "stdout",
          "text": [
            "This is my second class on AI\n"
          ]
        }
      ],
      "source": [
        "print(\"This is my second class on AI\")"
      ]
    },
    {
      "cell_type": "markdown",
      "source": [
        "Function in Python"
      ],
      "metadata": {
        "id": "Cs8uX3lPxCzQ"
      }
    },
    {
      "cell_type": "code",
      "source": [
        "def area_of_square (num):\n",
        "  return num*num\n",
        "print(\"the area is:\",area_of_square(6))\n",
        "print(\"the area of seond square is:\", area_of_square(16))"
      ],
      "metadata": {
        "colab": {
          "base_uri": "https://localhost:8080/"
        },
        "id": "CYOLFpcxxHUJ",
        "outputId": "69b55ff0-c733-4008-f992-d080e8b4e8cf"
      },
      "execution_count": null,
      "outputs": [
        {
          "output_type": "stream",
          "name": "stdout",
          "text": [
            "the area is: 36\n",
            "the area of seond square is: 256\n"
          ]
        }
      ]
    },
    {
      "cell_type": "markdown",
      "source": [
        "def area_of_circle(num):\n",
        "  return num*num\n",
        "print(\"the area is:\""
      ],
      "metadata": {
        "id": "c6XTB3kXyvcg"
      }
    },
    {
      "cell_type": "markdown",
      "source": [
        "List in Python"
      ],
      "metadata": {
        "id": "e1zSxezAzKqE"
      }
    },
    {
      "cell_type": "code",
      "source": [
        "# Creating a list of fruits\n",
        "fruits = [\"apple\", \"banana\", \"Kiwi\", \"orange\", \"strewary\"]\n",
        "# Accessing elements\n",
        "# print(fruits[0]) accessing first elements in the list\n",
        "# print(fruits[4]) accessing 5th elements in the list.\n",
        "\n",
        "# adding elements from list\n",
        "fruits.append(\"mango\")\n",
        "print(fruits)\n",
        "\n",
        "# Removing elements from list\n",
        "fruits.remove(\"Kiwi\")\n",
        "print(fruits)"
      ],
      "metadata": {
        "colab": {
          "base_uri": "https://localhost:8080/"
        },
        "id": "ecI9A-0CzQ5k",
        "outputId": "c9107e99-3721-4808-b58d-f2759656069e"
      },
      "execution_count": null,
      "outputs": [
        {
          "output_type": "stream",
          "name": "stdout",
          "text": [
            "['apple', 'banana', 'Kiwi', 'orange', 'strewary', 'mango']\n",
            "['apple', 'banana', 'orange', 'strewary', 'mango']\n"
          ]
        }
      ]
    },
    {
      "cell_type": "markdown",
      "source": [
        "#**Tuples in Python**"
      ],
      "metadata": {
        "id": "clL_vigC3vx5"
      }
    },
    {
      "cell_type": "code",
      "source": [
        "#**Dictionaries in Python**"
      ],
      "metadata": {
        "id": "RXuYrfSm64yV"
      },
      "execution_count": null,
      "outputs": []
    },
    {
      "cell_type": "code",
      "source": [
        "# Creating a Dictionary\n",
        "student={\n",
        "  \"name\": \"Ram Prasai\",\n",
        "  \"age\" : 30,\n",
        "  \"Course\" : \"Computer Science\"}\n",
        "#Accessing alues of a particular key in a dictionary\n",
        "print(student[\"age\"])\n",
        "student[\"age\"]=55\n",
        "print(student[\"age\"])\n",
        "\n",
        "print(student[\"address\"])\n",
        "student[\"address\"] = \"Kathmandu\"\n",
        "print(student[\"address\"])"
      ],
      "metadata": {
        "colab": {
          "base_uri": "https://localhost:8080/",
          "height": 245
        },
        "id": "k6Jwfyq07Bdb",
        "outputId": "7dfaacd5-25db-4dfc-f157-c1fd79441a54"
      },
      "execution_count": null,
      "outputs": [
        {
          "output_type": "stream",
          "name": "stdout",
          "text": [
            "30\n",
            "55\n"
          ]
        },
        {
          "output_type": "error",
          "ename": "KeyError",
          "evalue": "'address'",
          "traceback": [
            "\u001b[0;31m---------------------------------------------------------------------------\u001b[0m",
            "\u001b[0;31mKeyError\u001b[0m                                  Traceback (most recent call last)",
            "\u001b[0;32m<ipython-input-6-e3352a1b9406>\u001b[0m in \u001b[0;36m<cell line: 0>\u001b[0;34m()\u001b[0m\n\u001b[1;32m      9\u001b[0m \u001b[0mprint\u001b[0m\u001b[0;34m(\u001b[0m\u001b[0mstudent\u001b[0m\u001b[0;34m[\u001b[0m\u001b[0;34m\"age\"\u001b[0m\u001b[0;34m]\u001b[0m\u001b[0;34m)\u001b[0m\u001b[0;34m\u001b[0m\u001b[0;34m\u001b[0m\u001b[0m\n\u001b[1;32m     10\u001b[0m \u001b[0;34m\u001b[0m\u001b[0m\n\u001b[0;32m---> 11\u001b[0;31m \u001b[0mprint\u001b[0m\u001b[0;34m(\u001b[0m\u001b[0mstudent\u001b[0m\u001b[0;34m[\u001b[0m\u001b[0;34m\"address\"\u001b[0m\u001b[0;34m]\u001b[0m\u001b[0;34m)\u001b[0m\u001b[0;34m\u001b[0m\u001b[0;34m\u001b[0m\u001b[0m\n\u001b[0m\u001b[1;32m     12\u001b[0m \u001b[0mstudent\u001b[0m\u001b[0;34m[\u001b[0m\u001b[0;34m\"address\"\u001b[0m\u001b[0;34m]\u001b[0m \u001b[0;34m=\u001b[0m \u001b[0;34m\"Kathmandu\"\u001b[0m\u001b[0;34m\u001b[0m\u001b[0;34m\u001b[0m\u001b[0m\n\u001b[1;32m     13\u001b[0m \u001b[0mprint\u001b[0m\u001b[0;34m(\u001b[0m\u001b[0mstudent\u001b[0m\u001b[0;34m[\u001b[0m\u001b[0;34m\"address\"\u001b[0m\u001b[0;34m]\u001b[0m\u001b[0;34m)\u001b[0m\u001b[0;34m\u001b[0m\u001b[0;34m\u001b[0m\u001b[0m\n",
            "\u001b[0;31mKeyError\u001b[0m: 'address'"
          ]
        }
      ]
    },
    {
      "cell_type": "code",
      "source": [
        "num=int(input(\"what is the temperature c\"))\n",
        "def todays_temp(num):\n",
        "  return num*9/5+32\n",
        "print(\"the temperature in fahrenhit is:\",todays_temp(num))"
      ],
      "metadata": {
        "colab": {
          "base_uri": "https://localhost:8080/"
        },
        "id": "zApykazl8Rj3",
        "outputId": "6d6b3b6f-a622-4df5-f7c7-a0c56e4e021d"
      },
      "execution_count": null,
      "outputs": [
        {
          "output_type": "stream",
          "name": "stdout",
          "text": [
            "what is the temperature100\n",
            "the temperature in fahrenhit is: 212.0\n"
          ]
        }
      ]
    },
    {
      "cell_type": "markdown",
      "source": [
        "String Manipulation in Python(Tomorrow)"
      ],
      "metadata": {
        "id": "FKwrNiz2C7LT"
      }
    },
    {
      "cell_type": "code",
      "source": [
        "num=int(input(\"what is the temperature f\"))\n",
        "def todays_temp(num):\n",
        "  return (num-32)*5/9\n",
        "print(\"the temperature in celcius is:\",todays_temp(num))"
      ],
      "metadata": {
        "colab": {
          "base_uri": "https://localhost:8080/"
        },
        "id": "I3leqnsoC9Xx",
        "outputId": "5755bbf7-b13a-4215-d8ab-ddf12b6e1df9"
      },
      "execution_count": null,
      "outputs": [
        {
          "output_type": "stream",
          "name": "stdout",
          "text": [
            "what is the temperature f212\n",
            "the temperature in celcius is: 100.0\n"
          ]
        }
      ]
    },
    {
      "cell_type": "code",
      "source": [
        "Birth year=int(input(\"what is your birth year\"))\n",
        "def age(birthyear):\n",
        "  return 2025- birth year\n",
        "print(\"your age is :\",age(birth year))"
      ],
      "metadata": {
        "colab": {
          "base_uri": "https://localhost:8080/"
        },
        "id": "P-gcteECFBkL",
        "outputId": "3d8dc26e-1b46-4a37-f620-fbe333b0392f"
      },
      "execution_count": null,
      "outputs": [
        {
          "output_type": "stream",
          "name": "stdout",
          "text": [
            "what is your birth year2015\n",
            "your age is : 10\n"
          ]
        }
      ]
    },
    {
      "cell_type": "code",
      "source": [
        "# Interest\n",
        "principle = float(input(\"enter the principle Amount (P):\"))\n",
        "rate = float(input(\"enter the rate of interest(R) in % : \"))\n",
        "time = int(input(\"enter the period of time (T):\"))\n",
        "def interest(principle, rate,time):\n",
        "  return (principle* rate* time)/100\n",
        "print(\"the interest per year:\",interest(principle,rate,time))"
      ],
      "metadata": {
        "colab": {
          "base_uri": "https://localhost:8080/"
        },
        "id": "N41PNk5Xy5y4",
        "outputId": "7573a66b-afbe-4f26-d69c-e2a4a4b423bc"
      },
      "execution_count": null,
      "outputs": [
        {
          "output_type": "stream",
          "name": "stdout",
          "text": [
            "enter the principle Amount (P):10000\n",
            "enter the rate of interest(R) in % : 12\n",
            "enter the period of time (T):2\n",
            "the interest per year: 2400.0\n"
          ]
        }
      ]
    },
    {
      "cell_type": "code",
      "source": [
        "#BMI Calculator\n",
        "weight=float(input(\"enter your weight in kg:\"))\n",
        "height=float(input(\"enter your height in m:\"))\n",
        "def bmi(weight,height):\n",
        "  return weight/(height*height)\n",
        "print(\"your bmi is:\",bmi(weight,height))\n",
        "\n",
        "if bmi < 18.5:\n",
        "    print(\"You are underweight.\")\n",
        "elif 18.5 <= bmi < 25:\n",
        "    print(\"You have a normal weight.\")\n",
        "elif 25 <= bmi < 30:\n",
        "    print(\"You are overweight.\")\n",
        "else:\n",
        "    print(\"You are obese.\")"
      ],
      "metadata": {
        "colab": {
          "base_uri": "https://localhost:8080/",
          "height": 263
        },
        "id": "2DcwTbRyoYmH",
        "outputId": "5b72d008-410b-4540-b4ac-ac3149c66c0f"
      },
      "execution_count": null,
      "outputs": [
        {
          "output_type": "stream",
          "name": "stdout",
          "text": [
            "enter your weight in kg:85\n",
            "enter your height in m:1.3\n",
            "your bmi is: 50.29585798816568\n"
          ]
        },
        {
          "output_type": "error",
          "ename": "TypeError",
          "evalue": "'<' not supported between instances of 'function' and 'float'",
          "traceback": [
            "\u001b[0;31m---------------------------------------------------------------------------\u001b[0m",
            "\u001b[0;31mTypeError\u001b[0m                                 Traceback (most recent call last)",
            "\u001b[0;32m<ipython-input-16-1ff4e577ef18>\u001b[0m in \u001b[0;36m<cell line: 0>\u001b[0;34m()\u001b[0m\n\u001b[1;32m      6\u001b[0m \u001b[0mprint\u001b[0m\u001b[0;34m(\u001b[0m\u001b[0;34m\"your bmi is:\"\u001b[0m\u001b[0;34m,\u001b[0m\u001b[0mbmi\u001b[0m\u001b[0;34m(\u001b[0m\u001b[0mweight\u001b[0m\u001b[0;34m,\u001b[0m\u001b[0mheight\u001b[0m\u001b[0;34m)\u001b[0m\u001b[0;34m)\u001b[0m\u001b[0;34m\u001b[0m\u001b[0;34m\u001b[0m\u001b[0m\n\u001b[1;32m      7\u001b[0m \u001b[0;34m\u001b[0m\u001b[0m\n\u001b[0;32m----> 8\u001b[0;31m \u001b[0;32mif\u001b[0m \u001b[0mbmi\u001b[0m \u001b[0;34m<\u001b[0m \u001b[0;36m18.5\u001b[0m\u001b[0;34m:\u001b[0m\u001b[0;34m\u001b[0m\u001b[0;34m\u001b[0m\u001b[0m\n\u001b[0m\u001b[1;32m      9\u001b[0m     \u001b[0mprint\u001b[0m\u001b[0;34m(\u001b[0m\u001b[0;34m\"You are underweight.\"\u001b[0m\u001b[0;34m)\u001b[0m\u001b[0;34m\u001b[0m\u001b[0;34m\u001b[0m\u001b[0m\n\u001b[1;32m     10\u001b[0m \u001b[0;32melif\u001b[0m \u001b[0;36m18.5\u001b[0m \u001b[0;34m<=\u001b[0m \u001b[0mbmi\u001b[0m \u001b[0;34m<\u001b[0m \u001b[0;36m25\u001b[0m\u001b[0;34m:\u001b[0m\u001b[0;34m\u001b[0m\u001b[0;34m\u001b[0m\u001b[0m\n",
            "\u001b[0;31mTypeError\u001b[0m: '<' not supported between instances of 'function' and 'float'"
          ]
        }
      ]
    },
    {
      "cell_type": "markdown",
      "source": [],
      "metadata": {
        "id": "rKt6KSFdHd2_"
      }
    },
    {
      "cell_type": "code",
      "source": [
        "#Currency Converter\n",
        "amount=float(input(\"enter amount in local currency\"))\n",
        "result=amount/132\n",
        "print(\"amount in USD:\",result)\n",
        "\n"
      ],
      "metadata": {
        "colab": {
          "base_uri": "https://localhost:8080/"
        },
        "id": "a-JG_Lgwq84p",
        "outputId": "7779a462-0c0a-47d4-8a9b-a99646462aee"
      },
      "execution_count": null,
      "outputs": [
        {
          "output_type": "stream",
          "name": "stdout",
          "text": [
            "enter amount in local currency10000\n",
            "amount in USD: 75.75757575757575\n"
          ]
        }
      ]
    },
    {
      "cell_type": "code",
      "source": [
        "import random\n",
        "print(random.randint(0,9))"
      ],
      "metadata": {
        "colab": {
          "base_uri": "https://localhost:8080/"
        },
        "id": "yJMZM5pjut_D",
        "outputId": "802ea23d-1171-4618-a082-7bf75e20036a"
      },
      "execution_count": null,
      "outputs": [
        {
          "output_type": "stream",
          "name": "stdout",
          "text": [
            "8\n"
          ]
        }
      ]
    },
    {
      "cell_type": "markdown",
      "source": [
        " #*String* manipulation in Python"
      ],
      "metadata": {
        "id": "hUlAA85IHXT8"
      }
    },
    {
      "cell_type": "code",
      "source": [
        "# Creating a variable named \"text\"that contains leading and trailing spaces\n",
        "text=\"   Hello Python  \"\n",
        "print(text)\n",
        "\n",
        "#Lower()is used here to convert original text into lowercase\n",
        "print(text.lower())\n",
        "\n",
        "#strip() is used to remove leading and trailing spaces\n",
        "print(text.strip())\n",
        "\n",
        "#\n",
        "print(text.replace(\"Python\",\"Java\"))\n",
        "# Splitting and joining\n",
        "#Function Chaining or Method chaining\n",
        "splitted=text.strip().split()\n",
        "print(splitted)\n",
        "\n",
        "joined =\" \".join(splitted)\n",
        "print(joined)"
      ],
      "metadata": {
        "colab": {
          "base_uri": "https://localhost:8080/"
        },
        "id": "IThrin9XHtZI",
        "outputId": "d29c03fb-67e0-4853-bd53-5e9e1b65c8bb"
      },
      "execution_count": null,
      "outputs": [
        {
          "output_type": "stream",
          "name": "stdout",
          "text": [
            "   Hello Python  \n",
            "   hello python  \n",
            "Hello Python\n",
            "   Hello Java  \n",
            "['Hello', 'Python']\n",
            "Hello Python\n"
          ]
        }
      ]
    },
    {
      "cell_type": "markdown",
      "source": [
        "MODULAR PROGRAMMING IN PYTHON"
      ],
      "metadata": {
        "id": "i3f8W3ltLEaD"
      }
    },
    {
      "cell_type": "code",
      "source": [
        "#importing math module\n",
        "import math\n",
        "\n",
        "square_root=math.sqrt(25)\n",
        "print(int(square_root))\n"
      ],
      "metadata": {
        "colab": {
          "base_uri": "https://localhost:8080/"
        },
        "id": "pQqjJXPZIzF-",
        "outputId": "1afa07af-4e31-4ce8-b546-3e4c873442db"
      },
      "execution_count": null,
      "outputs": [
        {
          "output_type": "stream",
          "name": "stdout",
          "text": [
            "5\n"
          ]
        }
      ]
    },
    {
      "cell_type": "code",
      "source": [
        "floor=math.floor(3.7)\n",
        "print(\"The florring of 3.7 is:\",floor)\n",
        "\n",
        "ceiling=math.ceil(3.7)\n",
        "print(\"The ceiling of 3.7 is:\",ceiling)"
      ],
      "metadata": {
        "colab": {
          "base_uri": "https://localhost:8080/"
        },
        "id": "mPHQP2kwLqHs",
        "outputId": "2a85137a-b2a6-4cf1-d225-2f04b68b8afb"
      },
      "execution_count": null,
      "outputs": [
        {
          "output_type": "stream",
          "name": "stdout",
          "text": [
            "The florring of 3.7 is: 3\n",
            "The ceiling of 3.7 is: 4\n"
          ]
        }
      ]
    },
    {
      "cell_type": "markdown",
      "source": [
        "##Module alaising"
      ],
      "metadata": {
        "id": "gkZGKnmMM0Rq"
      }
    },
    {
      "cell_type": "code",
      "source": [
        "import matplotlib.pyplot as plt\n",
        "plt.plot([1,2,3],[4,5,6])\n"
      ],
      "metadata": {
        "id": "y7Ksj_9EMVxP"
      },
      "execution_count": null,
      "outputs": []
    },
    {
      "cell_type": "markdown",
      "source": [
        "Variable Alaising"
      ],
      "metadata": {
        "id": "qRxaJRb4NlrS"
      }
    },
    {
      "cell_type": "code",
      "source": [
        "a=[1,2,3,4]\n",
        "print(a)\n",
        "b=a\n",
        "b.append(5)\n",
        "print(b)\n",
        "print(a)\n",
        "\n",
        "#homework: experiment with function/method aliasing"
      ],
      "metadata": {
        "colab": {
          "base_uri": "https://localhost:8080/"
        },
        "id": "wsfIQnZiNqJq",
        "outputId": "f1caa063-5d0d-4101-808c-bd094121861f"
      },
      "execution_count": null,
      "outputs": [
        {
          "output_type": "stream",
          "name": "stdout",
          "text": [
            "[1, 2, 3, 4]\n",
            "[1, 2, 3, 4, 5]\n",
            "[1, 2, 3, 4, 5]\n"
          ]
        }
      ]
    },
    {
      "cell_type": "markdown",
      "source": [
        "Randoms in Python"
      ],
      "metadata": {
        "id": "s9JBZ7NnOGsN"
      }
    },
    {
      "cell_type": "code",
      "source": [
        "import random as rdn\n",
        "print(rdn.randint(0,10))"
      ],
      "metadata": {
        "colab": {
          "base_uri": "https://localhost:8080/"
        },
        "id": "m8t_mpxZOYt7",
        "outputId": "77ee871e-bb32-459c-9817-49ef6c23faf4"
      },
      "execution_count": null,
      "outputs": [
        {
          "output_type": "stream",
          "name": "stdout",
          "text": [
            "10\n"
          ]
        }
      ]
    },
    {
      "cell_type": "code",
      "source": [
        "random_float=rdn.random()\n",
        "print(random_float)"
      ],
      "metadata": {
        "colab": {
          "base_uri": "https://localhost:8080/"
        },
        "id": "SwwYwdOrPAmj",
        "outputId": "7abc4d7a-6dcf-4232-be94-0cfedb86d739"
      },
      "execution_count": null,
      "outputs": [
        {
          "output_type": "stream",
          "name": "stdout",
          "text": [
            "0.20312019093908362\n"
          ]
        }
      ]
    },
    {
      "cell_type": "code",
      "source": [
        "random_float_in_range=rdn.uniform(2.5,10.0)\n",
        "print(random_float_in_range)\n",
        "\n",
        "#Homework: Explore More Modules and function/Methods"
      ],
      "metadata": {
        "colab": {
          "base_uri": "https://localhost:8080/"
        },
        "id": "Inz7tQVVPP7I",
        "outputId": "5e410138-3c8d-474c-8185-c0c347ba7ef1"
      },
      "execution_count": null,
      "outputs": [
        {
          "output_type": "stream",
          "name": "stdout",
          "text": [
            "8.718624188752756\n"
          ]
        }
      ]
    },
    {
      "cell_type": "markdown",
      "source": [
        "#CREATING CUSTOM MODULES IN PYTHON"
      ],
      "metadata": {
        "id": "RZdV6F44NlUk"
      }
    },
    {
      "cell_type": "code",
      "source": [
        "#helper.py\n",
        "%%writefile helperr.py\n",
        "def add_numbers(a,b):\n",
        "  return a+b"
      ],
      "metadata": {
        "colab": {
          "base_uri": "https://localhost:8080/"
        },
        "id": "lWKWHc3fQCBB",
        "outputId": "50bdd59a-aaf9-4cb7-d3f4-90a3526e0b66"
      },
      "execution_count": null,
      "outputs": [
        {
          "output_type": "stream",
          "name": "stdout",
          "text": [
            "Writing helperr.py\n"
          ]
        }
      ]
    },
    {
      "cell_type": "code",
      "source": [
        "#main.py\n",
        "import helperr\n",
        "result= helperr.add_numbers(3,9)\n",
        "print(\"The addition between these numbers is:\",result)"
      ],
      "metadata": {
        "colab": {
          "base_uri": "https://localhost:8080/"
        },
        "id": "FCDeXmMaQOIx",
        "outputId": "31f9c953-16af-4371-ad7c-bf5c7bcbc8c6"
      },
      "execution_count": null,
      "outputs": [
        {
          "output_type": "stream",
          "name": "stdout",
          "text": [
            "The addition between these numbers is: 12\n"
          ]
        }
      ]
    },
    {
      "cell_type": "code",
      "source": [
        "#helper.py\n",
        "%%writefile helper2.py\n",
        "def sub_numbers(a,b):\n",
        "  return a-b\n",
        "def add_numbers(a,b):\n",
        "  return a+b\n",
        "def mul_numbers(a,b):\n",
        "  return a*b\n",
        "def dev_numbers(a,b):\n",
        "  return a/b\n"
      ],
      "metadata": {
        "colab": {
          "base_uri": "https://localhost:8080/"
        },
        "id": "9T164y5iRSP1",
        "outputId": "ac05b77f-1a7a-4640-d436-8cf5131c6b89"
      },
      "execution_count": null,
      "outputs": [
        {
          "output_type": "stream",
          "name": "stdout",
          "text": [
            "Writing helper2.py\n"
          ]
        }
      ]
    },
    {
      "cell_type": "code",
      "source": [
        "#main.py\n",
        "import helper2\n",
        "result= helper2.sub_numbers(5,10)\n",
        "result= helper2.add_numbers(5,10)\n",
        "result= helper2.add_numbers(5,10)\n",
        "result= helper2.mul_numbers(5,10)\n",
        "result= helper2.dev_numbers(5,10)\n",
        "print(\"The subctaction between these numbers is:\",result)\n",
        "print(\"The addition between these numbers is:\",result)\n",
        "print(\"The multiplication between these numbers is:\",result)\n",
        "print(\"The division between these numbers is:\",result)"
      ],
      "metadata": {
        "colab": {
          "base_uri": "https://localhost:8080/"
        },
        "id": "c8GJIe7wTfvc",
        "outputId": "3b85fca4-d3b2-43cc-ccc1-ec774942386f"
      },
      "execution_count": null,
      "outputs": [
        {
          "output_type": "stream",
          "name": "stdout",
          "text": [
            "Subtraction: -5\n",
            "Addition: 15\n",
            "Multiplication: 50\n",
            "Division: 0.5\n"
          ]
        }
      ]
    },
    {
      "cell_type": "markdown",
      "source": [
        "#Import shuffle from random, create a list [10, 20, 30, 40], shuffle it and print."
      ],
      "metadata": {
        "id": "R5670Wd30ftj"
      }
    },
    {
      "cell_type": "markdown",
      "source": [
        "import shuffle\n",
        "random_list(10,20,30,40)\n",
        "shuffle(random_list)\n",
        "print(random_list)"
      ],
      "metadata": {
        "id": "VCmjt--F1PLw"
      }
    },
    {
      "cell_type": "code",
      "source": [
        "import random\n",
        "numbers = [10, 20, 30, 40]\n",
        "random.shuffle(numbers)\n",
        "print(numbers)"
      ],
      "metadata": {
        "colab": {
          "base_uri": "https://localhost:8080/"
        },
        "id": "udZmGn0d2uU5",
        "outputId": "a4b5cce5-8d81-4802-c68c-a64e06b42540"
      },
      "execution_count": null,
      "outputs": [
        {
          "output_type": "stream",
          "name": "stdout",
          "text": [
            "[30, 20, 40, 10]\n"
          ]
        }
      ]
    },
    {
      "cell_type": "code",
      "source": [
        "#imprt math\n",
        "import math\n",
        "sine_30 = math.sin(math.radians(30))\n",
        "print(\"Sine of 30 degrees:\", sine_30)"
      ],
      "metadata": {
        "colab": {
          "base_uri": "https://localhost:8080/"
        },
        "id": "fedDn5E64fXn",
        "outputId": "f020bed2-2aff-418e-c42e-c328cb869816"
      },
      "execution_count": null,
      "outputs": [
        {
          "output_type": "stream",
          "name": "stdout",
          "text": [
            "Sine of 30 degrees: 0.49999999999999994\n"
          ]
        }
      ]
    },
    {
      "cell_type": "code",
      "source": [
        "%%writefile calc.py\n",
        "def square(n):\n",
        "  return n*n\n"
      ],
      "metadata": {
        "id": "AiWYBnWn_UoQ",
        "colab": {
          "base_uri": "https://localhost:8080/"
        },
        "outputId": "db217441-d920-4729-e266-fefd4a25eb9a"
      },
      "execution_count": null,
      "outputs": [
        {
          "output_type": "stream",
          "name": "stdout",
          "text": [
            "Writing calc.py\n"
          ]
        }
      ]
    },
    {
      "cell_type": "code",
      "source": [
        "import calc\n",
        "print(calc.square(8))"
      ],
      "metadata": {
        "colab": {
          "base_uri": "https://localhost:8080/"
        },
        "id": "Yp5N8Pqe3HTd",
        "outputId": "c7689077-f713-4046-ea46-bc8829909742"
      },
      "execution_count": null,
      "outputs": [
        {
          "output_type": "stream",
          "name": "stdout",
          "text": [
            "64\n"
          ]
        }
      ]
    },
    {
      "cell_type": "code",
      "source": [
        "import random\n",
        "fruits_list = [\"apple\", \"banana\", \"cherry\", \"date\", \"elderberry\"]\n",
        "random_fruit = random.choice(fruits_list)\n",
        "print(random_fruit)"
      ],
      "metadata": {
        "colab": {
          "base_uri": "https://localhost:8080/"
        },
        "id": "1JnxaZfF3TwB",
        "outputId": "4704f91d-ab14-4bf5-e725-06a2ea0e89e9"
      },
      "execution_count": null,
      "outputs": [
        {
          "output_type": "stream",
          "name": "stdout",
          "text": [
            "apple\n"
          ]
        }
      ]
    },
    {
      "cell_type": "code",
      "source": [
        "x=input(\"enter a number:\")\n",
        "print(10/0)"
      ],
      "metadata": {
        "colab": {
          "base_uri": "https://localhost:8080/",
          "height": 176
        },
        "id": "F4T_4bbL_xXD",
        "outputId": "045e6a2e-272e-4623-d2b8-c8dcd84941eb"
      },
      "execution_count": null,
      "outputs": [
        {
          "name": "stdout",
          "output_type": "stream",
          "text": [
            "enter a number:10\n"
          ]
        },
        {
          "output_type": "error",
          "ename": "ZeroDivisionError",
          "evalue": "division by zero",
          "traceback": [
            "\u001b[0;31m---------------------------------------------------------------------------\u001b[0m",
            "\u001b[0;31mZeroDivisionError\u001b[0m                         Traceback (most recent call last)",
            "\u001b[0;32m<ipython-input-17-4d3b1781304f>\u001b[0m in \u001b[0;36m<cell line: 0>\u001b[0;34m()\u001b[0m\n\u001b[1;32m      1\u001b[0m \u001b[0mx\u001b[0m\u001b[0;34m=\u001b[0m\u001b[0minput\u001b[0m\u001b[0;34m(\u001b[0m\u001b[0;34m\"enter a number:\"\u001b[0m\u001b[0;34m)\u001b[0m\u001b[0;34m\u001b[0m\u001b[0;34m\u001b[0m\u001b[0m\n\u001b[0;32m----> 2\u001b[0;31m \u001b[0mprint\u001b[0m\u001b[0;34m(\u001b[0m\u001b[0;36m10\u001b[0m\u001b[0;34m/\u001b[0m\u001b[0;36m0\u001b[0m\u001b[0;34m)\u001b[0m\u001b[0;34m\u001b[0m\u001b[0;34m\u001b[0m\u001b[0m\n\u001b[0m",
            "\u001b[0;31mZeroDivisionError\u001b[0m: division by zero"
          ]
        }
      ]
    },
    {
      "cell_type": "code",
      "source": [],
      "metadata": {
        "id": "Wv0NCtvh_3xK"
      },
      "execution_count": null,
      "outputs": []
    },
    {
      "cell_type": "markdown",
      "source": [
        "# File Handiling and ecceptions"
      ],
      "metadata": {
        "id": "0nCudG5iAwTm"
      }
    },
    {
      "cell_type": "markdown",
      "source": [
        "#opening and Reading a file"
      ],
      "metadata": {
        "id": "l9hfK8kqA4C9"
      }
    },
    {
      "cell_type": "code",
      "source": [
        "f=open(\"/content/Test.txt\",\"r\")\n",
        "print(f.read())\n",
        "f.close()"
      ],
      "metadata": {
        "colab": {
          "base_uri": "https://localhost:8080/"
        },
        "id": "eMsoUe1eA1_e",
        "outputId": "3097d327-8b9d-4f78-9c89-efc2a9ca7206"
      },
      "execution_count": null,
      "outputs": [
        {
          "output_type": "stream",
          "name": "stdout",
          "text": [
            "I am teaching!\n",
            "I am reading!\n",
            "I am working!\n",
            "student are doing their task!\n"
          ]
        }
      ]
    },
    {
      "cell_type": "code",
      "source": [
        "f=open(\"/content/Test.txt\",\"r\")\n",
        "print(f.readlines(2))\n",
        "f.close()"
      ],
      "metadata": {
        "colab": {
          "base_uri": "https://localhost:8080/"
        },
        "id": "BqzS0hQhBOeC",
        "outputId": "7d069813-645b-4e14-e390-1d45f3d4ba3f"
      },
      "execution_count": null,
      "outputs": [
        {
          "output_type": "stream",
          "name": "stdout",
          "text": [
            "['I am teaching!\\n']\n"
          ]
        }
      ]
    },
    {
      "cell_type": "code",
      "source": [
        "with open(\"/content/Test.txt\",\"r\") as f:\n",
        "  print(f.read())"
      ],
      "metadata": {
        "colab": {
          "base_uri": "https://localhost:8080/"
        },
        "id": "smXv9Ym9CQOJ",
        "outputId": "56b29aaa-bf0b-4dcf-a192-0fbb3d8debbe"
      },
      "execution_count": null,
      "outputs": [
        {
          "output_type": "stream",
          "name": "stdout",
          "text": [
            "I am teaching!\n",
            "I am reading!\n",
            "I am working!\n",
            "student are doing their task!\n"
          ]
        }
      ]
    },
    {
      "cell_type": "markdown",
      "source": [
        "# Writing to a file"
      ],
      "metadata": {
        "id": "lV3y8fCqDteW"
      }
    },
    {
      "cell_type": "code",
      "source": [
        "f=open(\"Re.txt\",\"w\")\n",
        "f.write(\"This is a new line\")\n",
        "f.close()"
      ],
      "metadata": {
        "id": "1mi6mv4FDTkZ"
      },
      "execution_count": null,
      "outputs": []
    },
    {
      "cell_type": "code",
      "source": [
        "with open(\"Test.txt\",\"w\") as f:\n",
        "  f.write(\"My Name is\")"
      ],
      "metadata": {
        "id": "3epdW62dD6_q"
      },
      "execution_count": null,
      "outputs": []
    },
    {
      "cell_type": "markdown",
      "source": [
        "#Appending to file"
      ],
      "metadata": {
        "id": "FE6IQ0RqE7UD"
      }
    },
    {
      "cell_type": "code",
      "source": [
        "f=open(\"Test.txt\",\"a\")\n",
        "f.write(\"\\nThis is a new line\")\n",
        "f.close()"
      ],
      "metadata": {
        "id": "WtEKAowOETWq"
      },
      "execution_count": null,
      "outputs": []
    },
    {
      "cell_type": "code",
      "source": [
        "f=open(\"Data.txt\",\"r\")\n",
        "print(f.read())\n",
        "f.close()"
      ],
      "metadata": {
        "colab": {
          "base_uri": "https://localhost:8080/"
        },
        "id": "4g3Xw_5PFL9y",
        "outputId": "14f3c5ef-0594-40f4-e94c-2d8d2e2fdc9e"
      },
      "execution_count": null,
      "outputs": [
        {
          "output_type": "stream",
          "name": "stdout",
          "text": [
            "Nepal \n",
            "kathmandu\n",
            "What is This\n",
            "about myself\n"
          ]
        }
      ]
    },
    {
      "cell_type": "markdown",
      "source": [
        "#DELETING TO A FILE/FOLDER"
      ],
      "metadata": {
        "id": "aSdBEe37Q1T2"
      }
    },
    {
      "cell_type": "code",
      "source": [
        "import os\n",
        "os.remove(\"Test.txt\")"
      ],
      "metadata": {
        "id": "RStx7n84Q8XT"
      },
      "execution_count": null,
      "outputs": []
    },
    {
      "cell_type": "code",
      "source": [
        "  os.rmdir(\"/content/Delete_me\")"
      ],
      "metadata": {
        "colab": {
          "base_uri": "https://localhost:8080/",
          "height": 141
        },
        "id": "zIZdaKnhRrtV",
        "outputId": "efcf06f7-b704-4ba2-fa7c-71ee0de4b771"
      },
      "execution_count": null,
      "outputs": [
        {
          "output_type": "error",
          "ename": "NotADirectoryError",
          "evalue": "[Errno 20] Not a directory: '/content/Delete_me'",
          "traceback": [
            "\u001b[0;31m---------------------------------------------------------------------------\u001b[0m",
            "\u001b[0;31mNotADirectoryError\u001b[0m                        Traceback (most recent call last)",
            "\u001b[0;32m<ipython-input-55-ed81f1e7af09>\u001b[0m in \u001b[0;36m<cell line: 0>\u001b[0;34m()\u001b[0m\n\u001b[0;32m----> 1\u001b[0;31m \u001b[0mos\u001b[0m\u001b[0;34m.\u001b[0m\u001b[0mrmdir\u001b[0m\u001b[0;34m(\u001b[0m\u001b[0;34m\"/content/Delete_me\"\u001b[0m\u001b[0;34m)\u001b[0m\u001b[0;34m\u001b[0m\u001b[0;34m\u001b[0m\u001b[0m\n\u001b[0m",
            "\u001b[0;31mNotADirectoryError\u001b[0m: [Errno 20] Not a directory: '/content/Delete_me'"
          ]
        }
      ]
    },
    {
      "cell_type": "markdown",
      "source": [
        "#EXCEPTION HANDLING"
      ],
      "metadata": {
        "id": "0WtPodMcSbwR"
      }
    },
    {
      "cell_type": "code",
      "source": [
        "try:\n",
        "  print(x)\n",
        "except:\n",
        "  print(\"An exception occured\")"
      ],
      "metadata": {
        "colab": {
          "base_uri": "https://localhost:8080/"
        },
        "id": "j_Jhn9G7SmuL",
        "outputId": "fa8c4f7e-55e6-4eec-b4ff-9c204b05cf8a"
      },
      "execution_count": null,
      "outputs": [
        {
          "output_type": "stream",
          "name": "stdout",
          "text": [
            "10\n"
          ]
        }
      ]
    },
    {
      "cell_type": "markdown",
      "source": [
        "#class work"
      ],
      "metadata": {
        "id": "TWl6T6vWLZ-s"
      }
    },
    {
      "cell_type": "code",
      "source": [
        "try:\n",
        "  with open(\"Data.txt\",\"r\") as f:\n",
        "    print(f.readlines())\n",
        "except FileNotFoundError:\n",
        "  print(\"File not found\")"
      ],
      "metadata": {
        "colab": {
          "base_uri": "https://localhost:8080/"
        },
        "id": "6dQxSmCiG-iV",
        "outputId": "c208a13e-d695-49cc-a225-5c4a2fc3ec06"
      },
      "execution_count": null,
      "outputs": [
        {
          "output_type": "stream",
          "name": "stdout",
          "text": [
            "['Nepal \\n', 'kathmandu\\n', 'What is This\\n', 'about myself']\n"
          ]
        }
      ]
    },
    {
      "cell_type": "code",
      "source": [
        "f=open(\"User.txt\",\"w\")\n",
        "f.write(\"My Name is ...\")\n",
        "f.close()"
      ],
      "metadata": {
        "id": "WFZBk7pmHHWX"
      },
      "execution_count": null,
      "outputs": []
    },
    {
      "cell_type": "code",
      "source": [
        "with open(\"User.txt\",\"w\") as f:\n",
        "  print(f.write(\"next level\"))"
      ],
      "metadata": {
        "colab": {
          "base_uri": "https://localhost:8080/"
        },
        "id": "avNsI7MKHgdJ",
        "outputId": "76aa3213-4e5e-465a-c084-30fa5f0efa02"
      },
      "execution_count": null,
      "outputs": [
        {
          "output_type": "stream",
          "name": "stdout",
          "text": [
            "10\n"
          ]
        }
      ]
    },
    {
      "cell_type": "code",
      "source": [
        "try:\n",
        "  with open(\"user.txt\",\"w\") as f:\n",
        "    print(f.write(\"hi\"))\n",
        "except FileNotFoundError:\n",
        "  print(\"File not found\")"
      ],
      "metadata": {
        "colab": {
          "base_uri": "https://localhost:8080/"
        },
        "id": "63k61-63IYEc",
        "outputId": "bc6881d7-d086-4cc4-cd66-fe1308f71f2c"
      },
      "execution_count": null,
      "outputs": [
        {
          "output_type": "stream",
          "name": "stdout",
          "text": [
            "2\n"
          ]
        }
      ]
    },
    {
      "cell_type": "code",
      "source": [
        "try:\n",
        "  with open(\"user_txt\",\"r\") as f:\n",
        "    content=f.read()\n",
        "    word=content.split()\n",
        "    word_count=len(word)\n",
        "    print(\"total no of word:\", word_count)\n",
        "except FileNotFoundError:\n",
        "  print(\"File not found\")"
      ],
      "metadata": {
        "colab": {
          "base_uri": "https://localhost:8080/"
        },
        "id": "rB0LsAWREJyR",
        "outputId": "c0b9b547-9229-4207-c832-edbb6fd6a1a5"
      },
      "execution_count": null,
      "outputs": [
        {
          "output_type": "stream",
          "name": "stdout",
          "text": [
            "total no of word: 18\n"
          ]
        }
      ]
    },
    {
      "cell_type": "code",
      "source": [
        "try:\n",
        "  with open(\"note.txt\",\"a\") as f:\n",
        "    f.write(\"next level\")\n",
        "except FileNotFoundError:\n",
        "  print(\"File not found\")"
      ],
      "metadata": {
        "id": "6hvy_oRAIFn0"
      },
      "execution_count": null,
      "outputs": []
    },
    {
      "cell_type": "code",
      "source": [
        "try:\n",
        "  with open(\"number.txt\",\"n\")as f:\n",
        "    add"
      ],
      "metadata": {
        "id": "pL6zkicP9kmy"
      },
      "execution_count": null,
      "outputs": []
    },
    {
      "cell_type": "markdown",
      "source": [
        "#Numpy Basics"
      ],
      "metadata": {
        "id": "PaQWqpufDjI2"
      }
    },
    {
      "cell_type": "markdown",
      "source": [
        "#Creating a numpy array and its attributes"
      ],
      "metadata": {
        "id": "L4V0vsLCDq7d"
      }
    },
    {
      "cell_type": "code",
      "source": [
        "#Importing numpy libarary\n",
        "import numpy as np\n",
        "#creating a list named \"my_list\"\n",
        "my_list=[1,3,5,7,9]\n",
        "#creating a 1-D numpy array from \"my_list\"\n",
        "my_arr=np.array(my_list)\n",
        "#printing the array\n",
        "print(my_arr)\n",
        "\n",
        "#Creating a 0-D array\n",
        "arr_0d=np.array(42)\n",
        "print(arr_0d)\n",
        "\n",
        "#Creating a 2-D array\n",
        "arr_2d=np.array([1,2,3,4,5])\n",
        "print(arr_2d)\n",
        "\n",
        "#creating a 3-D array\n",
        "arr_3d=np.array([[[1,2,3],[4,5,6]],[[7,8,9],[10,11,12]]])\n",
        "print(arr_3d)"
      ],
      "metadata": {
        "colab": {
          "base_uri": "https://localhost:8080/"
        },
        "id": "mFdOnoC6Dm8W",
        "outputId": "568688b7-9619-4078-8316-5d938f66bb4e"
      },
      "execution_count": null,
      "outputs": [
        {
          "output_type": "stream",
          "name": "stdout",
          "text": [
            "[1 3 5 7 9]\n",
            "42\n",
            "[1 2 3 4 5]\n",
            "[[[ 1  2  3]\n",
            "  [ 4  5  6]]\n",
            "\n",
            " [[ 7  8  9]\n",
            "  [10 11 12]]]\n"
          ]
        }
      ]
    },
    {
      "cell_type": "code",
      "source": [
        "#creating array and  its attributes\n",
        "arr=np.array()"
      ],
      "metadata": {
        "id": "YruzCSFNGNyh"
      },
      "execution_count": null,
      "outputs": []
    },
    {
      "cell_type": "markdown",
      "source": [
        "#accessing and manipulating array elements"
      ],
      "metadata": {
        "id": "hQ3fLyfhGxdQ"
      }
    },
    {
      "cell_type": "code",
      "source": [
        "#Accesing 1-D array elements\n",
        "my_arr=np.array([1,3,5,7,9])\n",
        "print(my_arr[2])\n"
      ],
      "metadata": {
        "colab": {
          "base_uri": "https://localhost:8080/"
        },
        "id": "7Z-oNzWrG4uS",
        "outputId": "33ef226a-bf2e-4262-f2fc-a4700936e53a"
      },
      "execution_count": null,
      "outputs": [
        {
          "output_type": "stream",
          "name": "stdout",
          "text": [
            "5\n"
          ]
        }
      ]
    },
    {
      "cell_type": "code",
      "source": [
        "#Accesing 2-D array elements\n",
        "\n",
        "my_arr = np.array([[1, 3, 5, 7,], [1, 3, 5, 9]])\n",
        "print(my_arr[1, 2])"
      ],
      "metadata": {
        "colab": {
          "base_uri": "https://localhost:8080/"
        },
        "id": "qZPDCDOiHMPo",
        "outputId": "ae58670e-11b9-4897-9576-b313eb654094"
      },
      "execution_count": null,
      "outputs": [
        {
          "output_type": "stream",
          "name": "stdout",
          "text": [
            "5\n"
          ]
        }
      ]
    },
    {
      "cell_type": "code",
      "source": [
        "#Accessing 3-D array elements\n",
        "my_arr=np.array([[[1,3,5,7],[1,3,5,9]]])\n",
        "print(my_arr[0,1,2])"
      ],
      "metadata": {
        "colab": {
          "base_uri": "https://localhost:8080/"
        },
        "id": "eGV-UZOPHlCn",
        "outputId": "158a30bd-1a39-4855-9014-69960c0157bf"
      },
      "execution_count": null,
      "outputs": [
        {
          "output_type": "stream",
          "name": "stdout",
          "text": [
            "5\n"
          ]
        }
      ]
    },
    {
      "cell_type": "markdown",
      "source": [
        "#Negative indesing"
      ],
      "metadata": {
        "id": "tgFbxFO_IZ53"
      }
    },
    {
      "cell_type": "code",
      "source": [
        "#Accesing 2-D array elements with negative indexing\n",
        "import numpy as np\n",
        "my_arr=np.array([[1,3,5,7,],[1,3,5,9]])\n",
        "print(my_arr[-1,-2])"
      ],
      "metadata": {
        "colab": {
          "base_uri": "https://localhost:8080/"
        },
        "id": "xbS20jTdIZle",
        "outputId": "d7df7f6c-b86b-4958-c536-2cbed30d2f49"
      },
      "execution_count": null,
      "outputs": [
        {
          "output_type": "stream",
          "name": "stdout",
          "text": [
            "5\n"
          ]
        }
      ]
    },
    {
      "cell_type": "markdown",
      "source": [
        "#Slicing Arrays\n",
        "#Important concepts while slicing array\n",
        "#array[start:end]\n",
        "#array[start:end:step]"
      ],
      "metadata": {
        "id": "WK-Kq0lkJCcg"
      }
    },
    {
      "cell_type": "code",
      "source": [
        "#slicing a 1-D numpy Array\n",
        "arr=np.array([1,3,5,7,9,11,13,15])\n",
        "print(arr[1:5])   #slicing\n",
        "print(arr[1:5:2]) #slicing with step\n",
        "print(arr[0:-1])  #Negative"
      ],
      "metadata": {
        "colab": {
          "base_uri": "https://localhost:8080/"
        },
        "id": "utS12hkHIWcd",
        "outputId": "f48e1f11-3198-47cc-8e9a-92a9961b03b9"
      },
      "execution_count": null,
      "outputs": [
        {
          "output_type": "stream",
          "name": "stdout",
          "text": [
            "[3 5 7 9]\n",
            "[3 7]\n",
            "[ 1  3  5  7  9 11 13]\n"
          ]
        }
      ]
    },
    {
      "cell_type": "code",
      "source": [
        "#slicing a 2-D Numby Array\n",
        "arr=np.array([[1,3,5,7],[2,4,6,8]])\n",
        "print(arr[1,1:-1])\n"
      ],
      "metadata": {
        "colab": {
          "base_uri": "https://localhost:8080/"
        },
        "id": "483kHs-SLDK2",
        "outputId": "0de6151e-5c4a-4e82-ff7f-7f8871d96d49"
      },
      "execution_count": null,
      "outputs": [
        {
          "output_type": "stream",
          "name": "stdout",
          "text": [
            "[4 6]\n"
          ]
        }
      ]
    },
    {
      "cell_type": "code",
      "source": [
        "#third elements and slice from index 1,3\n",
        "import numpy as np\n",
        "arr=np.array([1,3,5,6,9,7,11])\n",
        "print(arr[2])\n",
        "print(arr[1:4])"
      ],
      "metadata": {
        "colab": {
          "base_uri": "https://localhost:8080/"
        },
        "id": "K-7c38MIOFsy",
        "outputId": "b462856a-6215-40aa-9c2c-01d3b53d0161"
      },
      "execution_count": null,
      "outputs": [
        {
          "output_type": "stream",
          "name": "stdout",
          "text": [
            "5\n",
            "[3 5 6]\n"
          ]
        }
      ]
    },
    {
      "cell_type": "markdown",
      "source": [
        "#Homework:Expe"
      ],
      "metadata": {
        "id": "b4NKD8XpMEUn"
      }
    },
    {
      "cell_type": "code",
      "source": [
        "#2D numpy arry (3,3) with random between 1 and 10\n",
        "#replace value greater then 5 with 0\n",
        "import numpy as np\n",
        "arr = np.random.randint(1, 11, size=(3, 3))\n",
        "print(arr)\n",
        "arr[arr > 5] = 0\n",
        "print(arr)"
      ],
      "metadata": {
        "id": "HUCN6OUxKcDf",
        "colab": {
          "base_uri": "https://localhost:8080/"
        },
        "outputId": "e9eee804-8ae2-4d44-a7b6-02940a2ef0ea"
      },
      "execution_count": null,
      "outputs": [
        {
          "output_type": "stream",
          "name": "stdout",
          "text": [
            "[[7 6 1]\n",
            " [6 3 2]\n",
            " [1 8 4]]\n",
            "[[0 0 1]\n",
            " [0 3 2]\n",
            " [1 0 4]]\n"
          ]
        }
      ]
    },
    {
      "cell_type": "code",
      "source": [
        "#1D numpy array to compute the element-wise sum and print both result\n",
        "import numpy as np\n",
        "arr1 = np.array([1, 2, 3])\n",
        "arr2 = np.array([4, 5, 6])\n",
        "result = arr1 + arr2\n",
        "print(result)"
      ],
      "metadata": {
        "colab": {
          "base_uri": "https://localhost:8080/"
        },
        "id": "LEm_1Q-1yGEQ",
        "outputId": "7bbb5a46-b583-40f2-fd84-6324577c57e5"
      },
      "execution_count": 20,
      "outputs": [
        {
          "output_type": "stream",
          "name": "stdout",
          "text": [
            "[5 7 9]\n"
          ]
        }
      ]
    },
    {
      "cell_type": "code",
      "source": [
        "np.random.rand(2,2)"
      ],
      "metadata": {
        "id": "Yv4ykMcYJvv9",
        "colab": {
          "base_uri": "https://localhost:8080/"
        },
        "outputId": "054b11d7-1c6f-4a65-e2f4-de94db30072d"
      },
      "execution_count": 21,
      "outputs": [
        {
          "output_type": "execute_result",
          "data": {
            "text/plain": [
              "array([[0.27602546, 0.68582685],\n",
              "       [0.20229393, 0.80706861]])"
            ]
          },
          "metadata": {},
          "execution_count": 21
        }
      ]
    },
    {
      "cell_type": "markdown",
      "source": [
        "#Day 6\n",
        "#hands-on practice: pandas and Matplotlib\n",
        "#Exercise 1: Ceating a Pandas Seres\n",
        "#pandas Series=1D array with labels"
      ],
      "metadata": {
        "id": "wNrbdvQcu_eQ"
      }
    },
    {
      "cell_type": "code",
      "source": [
        "import pandas as pd\n",
        "scores=pd.Series([78,85,92,76,88], index=[\"Maths\",\"Science\",\"English\",\"History\"])\n",
        "print(scores)"
      ],
      "metadata": {
        "colab": {
          "base_uri": "https://localhost:8080/",
          "height": 321
        },
        "id": "Ve3lsvsLWjCO",
        "outputId": "60dd217a-89a3-4d98-cb35-41da77b9240c"
      },
      "execution_count": 22,
      "outputs": [
        {
          "output_type": "error",
          "ename": "ValueError",
          "evalue": "Length of values (5) does not match length of index (4)",
          "traceback": [
            "\u001b[0;31m---------------------------------------------------------------------------\u001b[0m",
            "\u001b[0;31mValueError\u001b[0m                                Traceback (most recent call last)",
            "\u001b[0;32m<ipython-input-22-d5205768f87b>\u001b[0m in \u001b[0;36m<cell line: 0>\u001b[0;34m()\u001b[0m\n\u001b[1;32m      1\u001b[0m \u001b[0;32mimport\u001b[0m \u001b[0mpandas\u001b[0m \u001b[0;32mas\u001b[0m \u001b[0mpd\u001b[0m\u001b[0;34m\u001b[0m\u001b[0;34m\u001b[0m\u001b[0m\n\u001b[0;32m----> 2\u001b[0;31m \u001b[0mscores\u001b[0m\u001b[0;34m=\u001b[0m\u001b[0mpd\u001b[0m\u001b[0;34m.\u001b[0m\u001b[0mSeries\u001b[0m\u001b[0;34m(\u001b[0m\u001b[0;34m[\u001b[0m\u001b[0;36m78\u001b[0m\u001b[0;34m,\u001b[0m\u001b[0;36m85\u001b[0m\u001b[0;34m,\u001b[0m\u001b[0;36m92\u001b[0m\u001b[0;34m,\u001b[0m\u001b[0;36m76\u001b[0m\u001b[0;34m,\u001b[0m\u001b[0;36m88\u001b[0m\u001b[0;34m]\u001b[0m\u001b[0;34m,\u001b[0m \u001b[0mindex\u001b[0m\u001b[0;34m=\u001b[0m\u001b[0;34m[\u001b[0m\u001b[0;34m\"Maths\"\u001b[0m\u001b[0;34m,\u001b[0m\u001b[0;34m\"Science\"\u001b[0m\u001b[0;34m,\u001b[0m\u001b[0;34m\"English\"\u001b[0m\u001b[0;34m,\u001b[0m\u001b[0;34m\"History\"\u001b[0m\u001b[0;34m]\u001b[0m\u001b[0;34m)\u001b[0m\u001b[0;34m\u001b[0m\u001b[0;34m\u001b[0m\u001b[0m\n\u001b[0m\u001b[1;32m      3\u001b[0m \u001b[0mprint\u001b[0m\u001b[0;34m(\u001b[0m\u001b[0mscores\u001b[0m\u001b[0;34m)\u001b[0m\u001b[0;34m\u001b[0m\u001b[0;34m\u001b[0m\u001b[0m\n",
            "\u001b[0;32m/usr/local/lib/python3.11/dist-packages/pandas/core/series.py\u001b[0m in \u001b[0;36m__init__\u001b[0;34m(self, data, index, dtype, name, copy, fastpath)\u001b[0m\n\u001b[1;32m    573\u001b[0m             \u001b[0mindex\u001b[0m \u001b[0;34m=\u001b[0m \u001b[0mdefault_index\u001b[0m\u001b[0;34m(\u001b[0m\u001b[0mlen\u001b[0m\u001b[0;34m(\u001b[0m\u001b[0mdata\u001b[0m\u001b[0;34m)\u001b[0m\u001b[0;34m)\u001b[0m\u001b[0;34m\u001b[0m\u001b[0;34m\u001b[0m\u001b[0m\n\u001b[1;32m    574\u001b[0m         \u001b[0;32melif\u001b[0m \u001b[0mis_list_like\u001b[0m\u001b[0;34m(\u001b[0m\u001b[0mdata\u001b[0m\u001b[0;34m)\u001b[0m\u001b[0;34m:\u001b[0m\u001b[0;34m\u001b[0m\u001b[0;34m\u001b[0m\u001b[0m\n\u001b[0;32m--> 575\u001b[0;31m             \u001b[0mcom\u001b[0m\u001b[0;34m.\u001b[0m\u001b[0mrequire_length_match\u001b[0m\u001b[0;34m(\u001b[0m\u001b[0mdata\u001b[0m\u001b[0;34m,\u001b[0m \u001b[0mindex\u001b[0m\u001b[0;34m)\u001b[0m\u001b[0;34m\u001b[0m\u001b[0;34m\u001b[0m\u001b[0m\n\u001b[0m\u001b[1;32m    576\u001b[0m \u001b[0;34m\u001b[0m\u001b[0m\n\u001b[1;32m    577\u001b[0m         \u001b[0;31m# create/copy the manager\u001b[0m\u001b[0;34m\u001b[0m\u001b[0;34m\u001b[0m\u001b[0m\n",
            "\u001b[0;32m/usr/local/lib/python3.11/dist-packages/pandas/core/common.py\u001b[0m in \u001b[0;36mrequire_length_match\u001b[0;34m(data, index)\u001b[0m\n\u001b[1;32m    571\u001b[0m     \"\"\"\n\u001b[1;32m    572\u001b[0m     \u001b[0;32mif\u001b[0m \u001b[0mlen\u001b[0m\u001b[0;34m(\u001b[0m\u001b[0mdata\u001b[0m\u001b[0;34m)\u001b[0m \u001b[0;34m!=\u001b[0m \u001b[0mlen\u001b[0m\u001b[0;34m(\u001b[0m\u001b[0mindex\u001b[0m\u001b[0;34m)\u001b[0m\u001b[0;34m:\u001b[0m\u001b[0;34m\u001b[0m\u001b[0;34m\u001b[0m\u001b[0m\n\u001b[0;32m--> 573\u001b[0;31m         raise ValueError(\n\u001b[0m\u001b[1;32m    574\u001b[0m             \u001b[0;34m\"Length of values \"\u001b[0m\u001b[0;34m\u001b[0m\u001b[0;34m\u001b[0m\u001b[0m\n\u001b[1;32m    575\u001b[0m             \u001b[0;34mf\"({len(data)}) \"\u001b[0m\u001b[0;34m\u001b[0m\u001b[0;34m\u001b[0m\u001b[0m\n",
            "\u001b[0;31mValueError\u001b[0m: Length of values (5) does not match length of index (4)"
          ]
        }
      ]
    },
    {
      "cell_type": "code",
      "source": [
        "#task 1: Create a Pandas series with values[10,20,30,40] and Indices[\"A\",\"B\",\"c\",\"D\"]. Print series"
      ],
      "metadata": {
        "id": "eXxGHXicwU-q"
      },
      "execution_count": null,
      "outputs": []
    },
    {
      "cell_type": "markdown",
      "source": [
        "#exercise 2: Creating a Pandas Data Frame\n",
        "#dataframe is in a table format"
      ],
      "metadata": {
        "id": "vgFFKQt1w3Fe"
      }
    },
    {
      "cell_type": "code",
      "source": [
        "data={\"name\":[\"Arav\",\"Bikram\",\"cherry\"],\n",
        "      \"age\":[15,56,12],\n",
        "    \"City\":[\"Kathmandu\",\"Bhaktapur\",\"Lalitpur\"],\n",
        "      \"Country\":[\"Nepal\",\"India\",\"USA\"]}\n",
        "      #Turning the dictionary into a dataframe\n",
        "df=pd.DataFrame(data)\n",
        "#Printing the dataframe\n",
        "print(df)"
      ],
      "metadata": {
        "colab": {
          "base_uri": "https://localhost:8080/"
        },
        "id": "jlLq_fBexB1c",
        "outputId": "83985c0e-bd6a-4906-bb9e-4ca24dec3a58"
      },
      "execution_count": 26,
      "outputs": [
        {
          "output_type": "stream",
          "name": "stdout",
          "text": [
            "     name  age       City Country\n",
            "0    Arav   15  Kathmandu   Nepal\n",
            "1  Bikram   56  Bhaktapur   India\n",
            "2  cherry   12   Lalitpur     USA\n"
          ]
        }
      ]
    },
    {
      "cell_type": "code",
      "source": [
        "#Task 2: Craeate a Dataframe with colums \"City\"([\"paris\",\"tokyo\", \"Sydney\"]) and \"Population\" ([2.1,37.4,5.3]). Print the Data frame\n",
        "impot pandsa as pd\n",
        "df=pd.DataFrame({\"City\":[\"paris\",\"tokyo\",\"Sydney\"],\"Population\":[2.1,37.4,5.3]})\n",
        "print(df)"
      ],
      "metadata": {
        "colab": {
          "base_uri": "https://localhost:8080/",
          "height": 106
        },
        "id": "Gw7FwEA_yP8Z",
        "outputId": "3aa1ee0f-32dd-48d1-f397-96acd2cad741"
      },
      "execution_count": 25,
      "outputs": [
        {
          "output_type": "error",
          "ename": "SyntaxError",
          "evalue": "invalid syntax (<ipython-input-25-22bf55991c32>, line 2)",
          "traceback": [
            "\u001b[0;36m  File \u001b[0;32m\"<ipython-input-25-22bf55991c32>\"\u001b[0;36m, line \u001b[0;32m2\u001b[0m\n\u001b[0;31m    impot pandsa as pd\u001b[0m\n\u001b[0m          ^\u001b[0m\n\u001b[0;31mSyntaxError\u001b[0m\u001b[0;31m:\u001b[0m invalid syntax\n"
          ]
        }
      ]
    },
    {
      "cell_type": "markdown",
      "source": [
        "#Exercise 3:Filterin Data in data frame"
      ],
      "metadata": {
        "id": "XFzqNtcKzxm7"
      }
    },
    {
      "cell_type": "code",
      "source": [
        "data={\"name\":[\"Arav\",\"Bikram\",\"cherry\"],\n",
        "      \"age\":[15,56,12],\n",
        "    \"City\":[\"Kathmandu\",\"Bhaktapur\",\"Lalitpur\"],\n",
        "      \"Country\":[\"Nepal\",\"India\",\"USA\"]}\n",
        "      #Turning the dictionary into a dataframe\n",
        "df=pd.DataFrame(data)\n",
        "#Printing the dataframe\n",
        "print(df)\n",
        "\n",
        "#Filtering\n",
        "filter=df[\"age\"]>18\n",
        "print(df[filter])\n",
        "\n",
        "#Task 3: create a dataframe with columns \"Name\"([\"eve\",\"Frank\",\"grace\"])\n",
        "#and \"age\" ([19,23,20]). Filter rows where age is greater than 20 and print the\n",
        "#result."
      ],
      "metadata": {
        "colab": {
          "base_uri": "https://localhost:8080/"
        },
        "id": "6eI-QJBGy8-y",
        "outputId": "742b9f06-4a74-4e60-cec1-fc6471e69566"
      },
      "execution_count": 27,
      "outputs": [
        {
          "output_type": "stream",
          "name": "stdout",
          "text": [
            "     name  age       City Country\n",
            "0    Arav   15  Kathmandu   Nepal\n",
            "1  Bikram   56  Bhaktapur   India\n",
            "2  cherry   12   Lalitpur     USA\n",
            "     name  age       City Country\n",
            "1  Bikram   56  Bhaktapur   India\n"
          ]
        }
      ]
    },
    {
      "cell_type": "markdown",
      "source": [
        "#Exercise 4:Reading and Processing a CSV file"
      ],
      "metadata": {
        "id": "xx-KrrPn1Fyz"
      }
    },
    {
      "cell_type": "code",
      "source": [
        "import io\n",
        "#Creating a CSV file\n",
        "csv_data=\"\"\"\n",
        "name, Grade\n",
        "Sushil,1\n",
        "Arpan,2\n",
        "Rohit,3\n",
        "\"\"\"\n",
        "\n",
        "#Reading a CSC file\n",
        "df=pd.read_csv(io.StringIO(csv_data))\n",
        "print(df)\n",
        "\n",
        "#Calculate average grade\n",
        "avrage_grade=df[\"Grade\"].mean()\n",
        "print(\"Average grade:\",average_grade)\n",
        "\n",
        "# Task 4: Simulate a CSV"
      ],
      "metadata": {
        "colab": {
          "base_uri": "https://localhost:8080/",
          "height": 616
        },
        "id": "8Uyg8VhP0W6e",
        "outputId": "86e1a305-db7e-4323-aff1-8cb5a25a5ca8"
      },
      "execution_count": 32,
      "outputs": [
        {
          "output_type": "stream",
          "name": "stdout",
          "text": [
            "     name   Grade\n",
            "0  Sushil       1\n",
            "1   Arpan       2\n",
            "2   Rohit       3\n"
          ]
        },
        {
          "output_type": "error",
          "ename": "KeyError",
          "evalue": "'Grade'",
          "traceback": [
            "\u001b[0;31m---------------------------------------------------------------------------\u001b[0m",
            "\u001b[0;31mKeyError\u001b[0m                                  Traceback (most recent call last)",
            "\u001b[0;32m/usr/local/lib/python3.11/dist-packages/pandas/core/indexes/base.py\u001b[0m in \u001b[0;36mget_loc\u001b[0;34m(self, key)\u001b[0m\n\u001b[1;32m   3804\u001b[0m         \u001b[0;32mtry\u001b[0m\u001b[0;34m:\u001b[0m\u001b[0;34m\u001b[0m\u001b[0;34m\u001b[0m\u001b[0m\n\u001b[0;32m-> 3805\u001b[0;31m             \u001b[0;32mreturn\u001b[0m \u001b[0mself\u001b[0m\u001b[0;34m.\u001b[0m\u001b[0m_engine\u001b[0m\u001b[0;34m.\u001b[0m\u001b[0mget_loc\u001b[0m\u001b[0;34m(\u001b[0m\u001b[0mcasted_key\u001b[0m\u001b[0;34m)\u001b[0m\u001b[0;34m\u001b[0m\u001b[0;34m\u001b[0m\u001b[0m\n\u001b[0m\u001b[1;32m   3806\u001b[0m         \u001b[0;32mexcept\u001b[0m \u001b[0mKeyError\u001b[0m \u001b[0;32mas\u001b[0m \u001b[0merr\u001b[0m\u001b[0;34m:\u001b[0m\u001b[0;34m\u001b[0m\u001b[0;34m\u001b[0m\u001b[0m\n",
            "\u001b[0;32mindex.pyx\u001b[0m in \u001b[0;36mpandas._libs.index.IndexEngine.get_loc\u001b[0;34m()\u001b[0m\n",
            "\u001b[0;32mindex.pyx\u001b[0m in \u001b[0;36mpandas._libs.index.IndexEngine.get_loc\u001b[0;34m()\u001b[0m\n",
            "\u001b[0;32mpandas/_libs/hashtable_class_helper.pxi\u001b[0m in \u001b[0;36mpandas._libs.hashtable.PyObjectHashTable.get_item\u001b[0;34m()\u001b[0m\n",
            "\u001b[0;32mpandas/_libs/hashtable_class_helper.pxi\u001b[0m in \u001b[0;36mpandas._libs.hashtable.PyObjectHashTable.get_item\u001b[0;34m()\u001b[0m\n",
            "\u001b[0;31mKeyError\u001b[0m: 'Grade'",
            "\nThe above exception was the direct cause of the following exception:\n",
            "\u001b[0;31mKeyError\u001b[0m                                  Traceback (most recent call last)",
            "\u001b[0;32m<ipython-input-32-6ed7304ab257>\u001b[0m in \u001b[0;36m<cell line: 0>\u001b[0;34m()\u001b[0m\n\u001b[1;32m     13\u001b[0m \u001b[0;34m\u001b[0m\u001b[0m\n\u001b[1;32m     14\u001b[0m \u001b[0;31m#Calculate average grade\u001b[0m\u001b[0;34m\u001b[0m\u001b[0;34m\u001b[0m\u001b[0m\n\u001b[0;32m---> 15\u001b[0;31m \u001b[0mavrage_grade\u001b[0m\u001b[0;34m=\u001b[0m\u001b[0mdf\u001b[0m\u001b[0;34m[\u001b[0m\u001b[0;34m\"Grade\"\u001b[0m\u001b[0;34m]\u001b[0m\u001b[0;34m.\u001b[0m\u001b[0mmean\u001b[0m\u001b[0;34m(\u001b[0m\u001b[0;34m)\u001b[0m\u001b[0;34m\u001b[0m\u001b[0;34m\u001b[0m\u001b[0m\n\u001b[0m\u001b[1;32m     16\u001b[0m \u001b[0mprint\u001b[0m\u001b[0;34m(\u001b[0m\u001b[0;34m\"Average grade:\"\u001b[0m\u001b[0;34m,\u001b[0m\u001b[0maverage_grade\u001b[0m\u001b[0;34m)\u001b[0m\u001b[0;34m\u001b[0m\u001b[0;34m\u001b[0m\u001b[0m\n",
            "\u001b[0;32m/usr/local/lib/python3.11/dist-packages/pandas/core/frame.py\u001b[0m in \u001b[0;36m__getitem__\u001b[0;34m(self, key)\u001b[0m\n\u001b[1;32m   4100\u001b[0m             \u001b[0;32mif\u001b[0m \u001b[0mself\u001b[0m\u001b[0;34m.\u001b[0m\u001b[0mcolumns\u001b[0m\u001b[0;34m.\u001b[0m\u001b[0mnlevels\u001b[0m \u001b[0;34m>\u001b[0m \u001b[0;36m1\u001b[0m\u001b[0;34m:\u001b[0m\u001b[0;34m\u001b[0m\u001b[0;34m\u001b[0m\u001b[0m\n\u001b[1;32m   4101\u001b[0m                 \u001b[0;32mreturn\u001b[0m \u001b[0mself\u001b[0m\u001b[0;34m.\u001b[0m\u001b[0m_getitem_multilevel\u001b[0m\u001b[0;34m(\u001b[0m\u001b[0mkey\u001b[0m\u001b[0;34m)\u001b[0m\u001b[0;34m\u001b[0m\u001b[0;34m\u001b[0m\u001b[0m\n\u001b[0;32m-> 4102\u001b[0;31m             \u001b[0mindexer\u001b[0m \u001b[0;34m=\u001b[0m \u001b[0mself\u001b[0m\u001b[0;34m.\u001b[0m\u001b[0mcolumns\u001b[0m\u001b[0;34m.\u001b[0m\u001b[0mget_loc\u001b[0m\u001b[0;34m(\u001b[0m\u001b[0mkey\u001b[0m\u001b[0;34m)\u001b[0m\u001b[0;34m\u001b[0m\u001b[0;34m\u001b[0m\u001b[0m\n\u001b[0m\u001b[1;32m   4103\u001b[0m             \u001b[0;32mif\u001b[0m \u001b[0mis_integer\u001b[0m\u001b[0;34m(\u001b[0m\u001b[0mindexer\u001b[0m\u001b[0;34m)\u001b[0m\u001b[0;34m:\u001b[0m\u001b[0;34m\u001b[0m\u001b[0;34m\u001b[0m\u001b[0m\n\u001b[1;32m   4104\u001b[0m                 \u001b[0mindexer\u001b[0m \u001b[0;34m=\u001b[0m \u001b[0;34m[\u001b[0m\u001b[0mindexer\u001b[0m\u001b[0;34m]\u001b[0m\u001b[0;34m\u001b[0m\u001b[0;34m\u001b[0m\u001b[0m\n",
            "\u001b[0;32m/usr/local/lib/python3.11/dist-packages/pandas/core/indexes/base.py\u001b[0m in \u001b[0;36mget_loc\u001b[0;34m(self, key)\u001b[0m\n\u001b[1;32m   3810\u001b[0m             ):\n\u001b[1;32m   3811\u001b[0m                 \u001b[0;32mraise\u001b[0m \u001b[0mInvalidIndexError\u001b[0m\u001b[0;34m(\u001b[0m\u001b[0mkey\u001b[0m\u001b[0;34m)\u001b[0m\u001b[0;34m\u001b[0m\u001b[0;34m\u001b[0m\u001b[0m\n\u001b[0;32m-> 3812\u001b[0;31m             \u001b[0;32mraise\u001b[0m \u001b[0mKeyError\u001b[0m\u001b[0;34m(\u001b[0m\u001b[0mkey\u001b[0m\u001b[0;34m)\u001b[0m \u001b[0;32mfrom\u001b[0m \u001b[0merr\u001b[0m\u001b[0;34m\u001b[0m\u001b[0;34m\u001b[0m\u001b[0m\n\u001b[0m\u001b[1;32m   3813\u001b[0m         \u001b[0;32mexcept\u001b[0m \u001b[0mTypeError\u001b[0m\u001b[0;34m:\u001b[0m\u001b[0;34m\u001b[0m\u001b[0;34m\u001b[0m\u001b[0m\n\u001b[1;32m   3814\u001b[0m             \u001b[0;31m# If we have a listlike key, _check_indexing_error will raise\u001b[0m\u001b[0;34m\u001b[0m\u001b[0;34m\u001b[0m\u001b[0m\n",
            "\u001b[0;31mKeyError\u001b[0m: 'Grade'"
          ]
        }
      ]
    },
    {
      "cell_type": "markdown",
      "source": [
        "#Project"
      ],
      "metadata": {
        "id": "ibPY0cFoPK9N"
      }
    },
    {
      "cell_type": "code",
      "source": [
        "from word2number import w2n\n",
        "from datetime import datetime\n",
        "\n",
        "def get_year_from_input(user_input):\n",
        "    try:\n",
        "        # Try converting directly to integer\n",
        "        return int(user_input)\n",
        "    except ValueError:\n",
        "        try:\n",
        "            # Convert words to number\n",
        "            return w2n.word_to_num(user_input.lower())\n",
        "        except ValueError:\n",
        "            print(\"Invalid input format.\")\n",
        "            return None\n",
        "\n",
        "def get_age_group(age):\n",
        "    if age < 0:\n",
        "        return \"Invalid age. Please enter a valid year of birth.\"\n",
        "    elif age <= 12:\n",
        "        return \"Child\"\n",
        "    elif age <= 19:\n",
        "        return \"Teenager\"\n",
        "    elif age <= 35:\n",
        "        return \"Young Adult\"\n",
        "    elif age <= 59:\n",
        "        return \"Adult\"\n",
        "    else:\n",
        "        return \"Senior Citizen\"\n",
        "\n",
        "def main():\n",
        "    user_input = input(\"Enter your birth year (e.g., 2005 or 'Two Thousand Five'): \")\n",
        "    birth_year = get_year_from_input(user_input)\n",
        "\n",
        "    if birth_year is not None:\n",
        "        current_year = datetime.now().year\n",
        "        age = current_year - birth_year\n",
        "\n",
        "        if age < 0:\n",
        "            print(\"You entered a year in the future. Please try again.\")\n",
        "        else:\n",
        "            group = get_age_group(age)\n",
        "            print(f\"Your age is: {age}\")\n",
        "            print(f\"You belong to the '{group}' age group.\")\n",
        "\n",
        "if __name__ == \"__main__\":\n",
        "    main()"
      ],
      "metadata": {
        "colab": {
          "base_uri": "https://localhost:8080/",
          "height": 106
        },
        "id": "YcB_8BJ01qHt",
        "outputId": "8d5c0571-5b57-414b-a015-b515e4aec249"
      },
      "execution_count": 1,
      "outputs": [
        {
          "output_type": "error",
          "ename": "SyntaxError",
          "evalue": "invalid non-printable character U+00A0 (<ipython-input-1-e20c78bc46b8>, line 46)",
          "traceback": [
            "\u001b[0;36m  File \u001b[0;32m\"<ipython-input-1-e20c78bc46b8>\"\u001b[0;36m, line \u001b[0;32m46\u001b[0m\n\u001b[0;31m    main()\u001b[0m\n\u001b[0m    ^\u001b[0m\n\u001b[0;31mSyntaxError\u001b[0m\u001b[0;31m:\u001b[0m invalid non-printable character U+00A0\n"
          ]
        }
      ]
    },
    {
      "cell_type": "markdown",
      "source": [
        "#Project Age Group Chaker"
      ],
      "metadata": {
        "id": "x92fXQslLtpq"
      }
    },
    {
      "cell_type": "code",
      "source": [
        "# Step 1: Prompt the user for input with error handling\n",
        "try:\n",
        "    age = int(input(\"Please enter your age: \"))\n",
        "\n",
        "    # Step 2: Define the function\n",
        "    def age_group(age):\n",
        "        if age <= 12:\n",
        "            return \"Child\"\n",
        "        elif age <= 19:\n",
        "            return \"Teenager\"\n",
        "        elif age <= 64:\n",
        "            return \"Adult\"\n",
        "        else:\n",
        "            return \"Senior\"\n",
        "\n",
        "    # Step 3: Get result and print it\n",
        "    result = age_group(age)\n",
        "    print(f\"Based on your age, you are classified as: {result}\")\n",
        "\n",
        "except ValueError:\n",
        "    print(\"Invalid input! Please enter a valid number for age.\")"
      ],
      "metadata": {
        "colab": {
          "base_uri": "https://localhost:8080/"
        },
        "id": "ErKK97qvPPZT",
        "outputId": "dd9fed65-4df0-49e8-bb6d-0eb4090df041"
      },
      "execution_count": 3,
      "outputs": [
        {
          "output_type": "stream",
          "name": "stdout",
          "text": [
            "Please enter your age: 2025\n",
            "Based on your age, you are classified as: Senior\n"
          ]
        }
      ]
    },
    {
      "cell_type": "code",
      "source": [
        "from word2number import w2n\n",
        "from datetime import datetime\n",
        "def say_amazing(year):\n",
        "   amazing={\n",
        "1980:\"Ic2onic music and films defined the era—Michael Jackson’s Thriller (1982), Back to the Future (1985), and the rise of MTV. The fall of the Berlin Wall (1989) symbolized the end of the Cold War.\",\n",
        "1990:\"The World Wide Web went public (1991), and Netscape (1994) made the internet accessible. The first text message was sent in 1992. Amazon (1994) and Google (1998) were founded, reshaping commerce and information.\",\n",
        "2000:\"The iPod (2001) and iPhone (2007) revolutionized music and mobile communication. Facebook (2004) and YouTube (2005) transformed social media and content sharing. Wikipedia (2001) democratized knowledge\",\n",
        "2010:\"Tesla’s Model S (2012) accelerated electric vehicle adoption. AI advancements, like AlphaGo defeating a Go champion (2016), marked tech breakthroughs.\",\n",
        "2020:\"SpaceX’s reusable rockets and Starlink (2020s) expanded space access and global internet. AI models like ChatGPT (2022) and Grok 3 (2024) transformed human-machine interaction.\"}\n",
        "   if year<1981:\n",
        "     print(amazing[1980])\n",
        "     print(amazing[1990])\n",
        "     print(amazing[2000])\n",
        "     print(amazing[2010])\n",
        "\n",
        "     print(amazing[2020])\n",
        "   elif year<1991:\n",
        "     print(amazing[1990])\n",
        "     print(amazing[2000])\n",
        "     print(amazing[2010])\n",
        "     print(amazing[2020])\n",
        "\n",
        "   elif year<2001:\n",
        "     print(amazing[2000])\n",
        "     print(amazing[2010])\n",
        "     print(amazing[2020])\n",
        "   elif year<2011:\n",
        "     print(amazing[2010])\n",
        "     print(amazing[2020])\n",
        "   elif year>2024:\n",
        "      print(\" \")\n",
        "   else:\n",
        "     print(amazing[2020])\n",
        "def get_year_from_input(user_input):\n",
        "    try:\n",
        "        # Try converting directly to integer\n",
        "        return int(user_input)\n",
        "    except ValueError:\n",
        "        try:\n",
        "            # Convert words to number given by user\n",
        "            return w2n.word_to_num(user_input.lower())\n",
        "        except ValueError:\n",
        "            print(\"Invalid input format.\")\n",
        "            return None\n",
        "\n",
        "def get_age_group(age):\n",
        "    if age<0:\n",
        "        return \"Invalid age. Please enter a valid year of birth.\"\n",
        "    if age == 0:\n",
        "        return \"You are infant\"\n",
        "    elif age <= 12:\n",
        "        return \"Child\"\n",
        "    elif age <= 19:\n",
        "        return \"Teenager\"\n",
        "    elif age <= 35:\n",
        "        return \"Young Adult\"\n",
        "    elif age <= 59:\n",
        "        return \"Adult\"\n",
        "    elif age<=100:\n",
        "        return \"Senior Citizen\"\n",
        "    else:\n",
        "        raise ValueError\n",
        "\n",
        "def main():\n",
        "    user_input = input(\"Enter your birth year (e.g., 2005 or 'Two Thousand Five'): \")\n",
        "    birth_year = get_year_from_input(user_input)\n",
        "    if birth_year<1925:\n",
        "        raise ValueError\n",
        "    else:\n",
        "     say_amazing(birth_year)\n",
        "     if birth_year is not None:\n",
        "        current_year = datetime.now().year\n",
        "        age = current_year - birth_year\n",
        "\n",
        "        if age < 0:\n",
        "            print(\"You entered a year in the future. Please try again.\")\n",
        "        else:\n",
        "            group = get_age_group(age)\n",
        "            print(f\"Your age is: {age}\")\n",
        "            print(f\"You belong to the '{group}' age group.\")\n",
        "\n",
        "try:\n",
        "    main()\n",
        "except:\n",
        "    print(\"You entered wrong value\")"
      ],
      "metadata": {
        "colab": {
          "base_uri": "https://localhost:8080/",
          "height": 401
        },
        "id": "IgwD-aIBL2ul",
        "outputId": "0f4c2b0b-d246-4320-d9ec-2ded5e125f2e"
      },
      "execution_count": 1,
      "outputs": [
        {
          "output_type": "error",
          "ename": "ModuleNotFoundError",
          "evalue": "No module named 'word2number'",
          "traceback": [
            "\u001b[0;31m---------------------------------------------------------------------------\u001b[0m",
            "\u001b[0;31mModuleNotFoundError\u001b[0m                       Traceback (most recent call last)",
            "\u001b[0;32m<ipython-input-1-6ba334ea96e8>\u001b[0m in \u001b[0;36m<cell line: 0>\u001b[0;34m()\u001b[0m\n\u001b[0;32m----> 1\u001b[0;31m \u001b[0;32mfrom\u001b[0m \u001b[0mword2number\u001b[0m \u001b[0;32mimport\u001b[0m \u001b[0mw2n\u001b[0m\u001b[0;34m\u001b[0m\u001b[0;34m\u001b[0m\u001b[0m\n\u001b[0m\u001b[1;32m      2\u001b[0m \u001b[0;32mfrom\u001b[0m \u001b[0mdatetime\u001b[0m \u001b[0;32mimport\u001b[0m \u001b[0mdatetime\u001b[0m\u001b[0;34m\u001b[0m\u001b[0;34m\u001b[0m\u001b[0m\n\u001b[1;32m      3\u001b[0m \u001b[0;32mdef\u001b[0m \u001b[0msay_amazing\u001b[0m\u001b[0;34m(\u001b[0m\u001b[0myear\u001b[0m\u001b[0;34m)\u001b[0m\u001b[0;34m:\u001b[0m\u001b[0;34m\u001b[0m\u001b[0;34m\u001b[0m\u001b[0m\n\u001b[1;32m      4\u001b[0m    amazing={\n\u001b[1;32m      5\u001b[0m \u001b[0;36m1980\u001b[0m\u001b[0;34m:\u001b[0m\u001b[0;34m\"Ic2onic music and films defined the era—Michael Jackson’s Thriller (1982), Back to the Future (1985), and the rise of MTV. The fall of the Berlin Wall (1989) symbolized the end of the Cold War.\"\u001b[0m\u001b[0;34m,\u001b[0m\u001b[0;34m\u001b[0m\u001b[0;34m\u001b[0m\u001b[0m\n",
            "\u001b[0;31mModuleNotFoundError\u001b[0m: No module named 'word2number'",
            "",
            "\u001b[0;31m---------------------------------------------------------------------------\u001b[0;32m\nNOTE: If your import is failing due to a missing package, you can\nmanually install dependencies using either !pip or !apt.\n\nTo view examples of installing some common dependencies, click the\n\"Open Examples\" button below.\n\u001b[0;31m---------------------------------------------------------------------------\u001b[0m\n"
          ],
          "errorDetails": {
            "actions": [
              {
                "action": "open_url",
                "actionText": "Open Examples",
                "url": "/notebooks/snippets/importing_libraries.ipynb"
              }
            ]
          }
        }
      ]
    },
    {
      "cell_type": "code",
      "source": [],
      "metadata": {
        "id": "dwUFV6B4enml"
      },
      "execution_count": null,
      "outputs": []
    }
  ]
}