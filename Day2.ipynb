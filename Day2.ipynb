{
  "nbformat": 4,
  "nbformat_minor": 0,
  "metadata": {
    "colab": {
      "provenance": []
    },
    "kernelspec": {
      "name": "python3",
      "display_name": "Python 3"
    },
    "language_info": {
      "name": "python"
    }
  },
  "cells": [
    {
      "cell_type": "markdown",
      "source": [
        "#Section 1"
      ],
      "metadata": {
        "id": "VjgenFTSwhoS"
      }
    },
    {
      "cell_type": "code",
      "execution_count": 2,
      "metadata": {
        "colab": {
          "base_uri": "https://localhost:8080/"
        },
        "id": "ZUuPSsb6vbZw",
        "outputId": "5d1cdc3d-3c5f-4cab-e18e-4258927a7676"
      },
      "outputs": [
        {
          "output_type": "stream",
          "name": "stdout",
          "text": [
            "This is my second class on AI\n"
          ]
        }
      ],
      "source": [
        "print(\"This is my second class on AI\")"
      ]
    },
    {
      "cell_type": "markdown",
      "source": [
        "Function in Python"
      ],
      "metadata": {
        "id": "Cs8uX3lPxCzQ"
      }
    },
    {
      "cell_type": "code",
      "source": [
        "def area_of_square (num):\n",
        "  return num*num\n",
        "print(\"the area is:\",area_of_square(6))\n",
        "print(\"the area of seond square is:\", area_of_square(16))"
      ],
      "metadata": {
        "colab": {
          "base_uri": "https://localhost:8080/"
        },
        "id": "CYOLFpcxxHUJ",
        "outputId": "69b55ff0-c733-4008-f992-d080e8b4e8cf"
      },
      "execution_count": 6,
      "outputs": [
        {
          "output_type": "stream",
          "name": "stdout",
          "text": [
            "the area is: 36\n",
            "the area of seond square is: 256\n"
          ]
        }
      ]
    },
    {
      "cell_type": "markdown",
      "source": [
        "def area_of_circle(num):\n",
        "  return num*num\n",
        "print(\"the area is:\""
      ],
      "metadata": {
        "id": "c6XTB3kXyvcg"
      }
    },
    {
      "cell_type": "markdown",
      "source": [
        "List in Python"
      ],
      "metadata": {
        "id": "e1zSxezAzKqE"
      }
    },
    {
      "cell_type": "code",
      "source": [
        "# Creating a list of fruits\n",
        "fruits = [\"apple\", \"banana\", \"Kiwi\", \"orange\", \"strewary\"]\n",
        "# Accessing elements\n",
        "# print(fruits[0]) accessing first elements in the list\n",
        "# print(fruits[4]) accessing 5th elements in the list.\n",
        "\n",
        "# adding elements from list\n",
        "fruits.append(\"mango\")\n",
        "print(fruits)\n",
        "\n",
        "# Removing elements from list\n",
        "fruits.remove(\"Kiwi\")\n",
        "print(fruits)"
      ],
      "metadata": {
        "colab": {
          "base_uri": "https://localhost:8080/"
        },
        "id": "ecI9A-0CzQ5k",
        "outputId": "c9107e99-3721-4808-b58d-f2759656069e"
      },
      "execution_count": 17,
      "outputs": [
        {
          "output_type": "stream",
          "name": "stdout",
          "text": [
            "['apple', 'banana', 'Kiwi', 'orange', 'strewary', 'mango']\n",
            "['apple', 'banana', 'orange', 'strewary', 'mango']\n"
          ]
        }
      ]
    },
    {
      "cell_type": "markdown",
      "source": [
        "#**Tuples in Python**"
      ],
      "metadata": {
        "id": "clL_vigC3vx5"
      }
    },
    {
      "cell_type": "code",
      "source": [
        "#**Dictionaries in Python**"
      ],
      "metadata": {
        "id": "RXuYrfSm64yV"
      },
      "execution_count": 22,
      "outputs": []
    },
    {
      "cell_type": "code",
      "source": [
        "# Creating a Dictionary\n",
        "student={\n",
        "  \"name\": \"Ram Prasai\",\n",
        "  \"age\" : 30,\n",
        "  \"Course\" : \"Computer Science\"}\n",
        "#Accessing alues of a particular key in a dictionary\n",
        "print(student[\"age\"])\n",
        "student[\"age\"]=55\n",
        "print(student[\"age\"])\n",
        "\n",
        "print(student[\"address\"])\n",
        "student[\"address\"]=\"Kathmandu\"\n",
        "print(student[\"address\"])"
      ],
      "metadata": {
        "colab": {
          "base_uri": "https://localhost:8080/",
          "height": 245
        },
        "id": "k6Jwfyq07Bdb",
        "outputId": "53f34dfa-ce0f-43eb-b4b9-9317afb5cc92"
      },
      "execution_count": 35,
      "outputs": [
        {
          "output_type": "stream",
          "name": "stdout",
          "text": [
            "30\n",
            "55\n"
          ]
        },
        {
          "output_type": "error",
          "ename": "KeyError",
          "evalue": "'address'",
          "traceback": [
            "\u001b[0;31m---------------------------------------------------------------------------\u001b[0m",
            "\u001b[0;31mKeyError\u001b[0m                                  Traceback (most recent call last)",
            "\u001b[0;32m<ipython-input-35-b4360d7ec9a7>\u001b[0m in \u001b[0;36m<cell line: 0>\u001b[0;34m()\u001b[0m\n\u001b[1;32m      9\u001b[0m \u001b[0mprint\u001b[0m\u001b[0;34m(\u001b[0m\u001b[0mstudent\u001b[0m\u001b[0;34m[\u001b[0m\u001b[0;34m\"age\"\u001b[0m\u001b[0;34m]\u001b[0m\u001b[0;34m)\u001b[0m\u001b[0;34m\u001b[0m\u001b[0;34m\u001b[0m\u001b[0m\n\u001b[1;32m     10\u001b[0m \u001b[0;34m\u001b[0m\u001b[0m\n\u001b[0;32m---> 11\u001b[0;31m \u001b[0mprint\u001b[0m\u001b[0;34m(\u001b[0m\u001b[0mstudent\u001b[0m\u001b[0;34m[\u001b[0m\u001b[0;34m\"address\"\u001b[0m\u001b[0;34m]\u001b[0m\u001b[0;34m)\u001b[0m\u001b[0;34m\u001b[0m\u001b[0;34m\u001b[0m\u001b[0m\n\u001b[0m\u001b[1;32m     12\u001b[0m \u001b[0mstudent\u001b[0m\u001b[0;34m[\u001b[0m\u001b[0;34m\"address\"\u001b[0m\u001b[0;34m]\u001b[0m\u001b[0;34m=\u001b[0m \u001b[0;34m\"Kathmandu\"\u001b[0m\u001b[0;34m\u001b[0m\u001b[0;34m\u001b[0m\u001b[0m\n\u001b[1;32m     13\u001b[0m \u001b[0mprint\u001b[0m\u001b[0;34m(\u001b[0m\u001b[0mstudent\u001b[0m\u001b[0;34m[\u001b[0m\u001b[0;34m\"address\"\u001b[0m\u001b[0;34m]\u001b[0m\u001b[0;34m)\u001b[0m\u001b[0;34m\u001b[0m\u001b[0;34m\u001b[0m\u001b[0m\n",
            "\u001b[0;31mKeyError\u001b[0m: 'address'"
          ]
        }
      ]
    },
    {
      "cell_type": "code",
      "source": [
        "num=int(input(\"what is the temperature c\"))\n",
        "def todays_temp(num):\n",
        "  return num*9/5+32\n",
        "print(\"the temperature in fahrenhit is:\",todays_temp(num))"
      ],
      "metadata": {
        "colab": {
          "base_uri": "https://localhost:8080/"
        },
        "id": "zApykazl8Rj3",
        "outputId": "6d6b3b6f-a622-4df5-f7c7-a0c56e4e021d"
      },
      "execution_count": 37,
      "outputs": [
        {
          "output_type": "stream",
          "name": "stdout",
          "text": [
            "what is the temperature100\n",
            "the temperature in fahrenhit is: 212.0\n"
          ]
        }
      ]
    },
    {
      "cell_type": "markdown",
      "source": [
        "String Manipulation in Python(Tomorrow)"
      ],
      "metadata": {
        "id": "FKwrNiz2C7LT"
      }
    },
    {
      "cell_type": "code",
      "source": [
        "num=int(input(\"what is the temperature f\"))\n",
        "def todays_temp(num):\n",
        "  return num(f-32)*5/9\n",
        "print(\"the temperature in celcious is:,todays_tem(num))"
      ],
      "metadata": {
        "colab": {
          "base_uri": "https://localhost:8080/",
          "height": 106
        },
        "id": "I3leqnsoC9Xx",
        "outputId": "e44862d6-a008-4388-b418-7d19438bbe83"
      },
      "execution_count": 39,
      "outputs": [
        {
          "output_type": "error",
          "ename": "SyntaxError",
          "evalue": "unterminated string literal (detected at line 4) (<ipython-input-39-3943e57a0c11>, line 4)",
          "traceback": [
            "\u001b[0;36m  File \u001b[0;32m\"<ipython-input-39-3943e57a0c11>\"\u001b[0;36m, line \u001b[0;32m4\u001b[0m\n\u001b[0;31m    print(\"the temperature in celcious is:,todays_tem(num))\u001b[0m\n\u001b[0m          ^\u001b[0m\n\u001b[0;31mSyntaxError\u001b[0m\u001b[0;31m:\u001b[0m unterminated string literal (detected at line 4)\n"
          ]
        }
      ]
    },
    {
      "cell_type": "code",
      "source": [],
      "metadata": {
        "id": "P-gcteECFBkL"
      },
      "execution_count": null,
      "outputs": []
    }
  ]
}